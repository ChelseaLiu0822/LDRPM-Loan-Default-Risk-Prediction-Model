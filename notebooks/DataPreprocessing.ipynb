{
  "nbformat": 4,
  "nbformat_minor": 0,
  "metadata": {
    "colab": {
      "provenance": [],
      "collapsed_sections": [
        "hq1YCExgqq5n"
      ],
      "toc_visible": true,
      "include_colab_link": true
    },
    "kernelspec": {
      "name": "python3",
      "display_name": "Python 3"
    },
    "language_info": {
      "name": "python"
    }
  },
  "cells": [
    {
      "cell_type": "markdown",
      "metadata": {
        "id": "view-in-github",
        "colab_type": "text"
      },
      "source": [
        "<a href=\"https://colab.research.google.com/github/ChelseaLiu0822/LDRPM-Loan-Default-Risk-Prediction-Model/blob/main/notebooks/DataPreprocessing.ipynb\" target=\"_parent\"><img src=\"https://colab.research.google.com/assets/colab-badge.svg\" alt=\"Open In Colab\"/></a>"
      ]
    },
    {
      "cell_type": "markdown",
      "source": [
        "# Objectives:\n",
        "- use dask to load data\n",
        "- explore data\n",
        "- transform data\n",
        "- aggregate data\n",
        "- merge data\n",
        "- output a tiny parquet file\n",
        "\n",
        "## refs:   \n",
        "eda: https://www.kaggle.com/code/taichiuemura/home-credit-eda  \n",
        "\n",
        "feature group: https://www.kaggle.com/code/seoyunje/home-credit-feature-group/notebook\n",
        "\n",
        "If you want to know data description, check out below\n",
        "\n",
        "https://www.kaggle.com/competitions/home-credit-credit-risk-model-stability/discussion/473950\n",
        "\n",
        "If you want to know feature column description, check out below\n",
        "\n",
        "https://www.kaggle.com/datasets/kononenko/home-credit-enhanced-feature-definitions  \n",
        "How to aggregate dataframes:  \n",
        "https://www.kaggle.com/code/greysky/home-credit-baseline  \n",
        "A more detailed description file for features: https://www.kaggle.com/datasets/kononenko/home-credit-enhanced-feature-definitions  \n",
        "About num_group:\n",
        "1. https://www.kaggle.com/competitions/home-credit-credit-risk-model-stability/discussion/476763  \n",
        "2. https://www.kaggle.com/competitions/home-credit-credit-risk-model-stability/discussion/475548\n",
        "\n"
      ],
      "metadata": {
        "id": "R4ltwG8Zcx6X"
      }
    },
    {
      "cell_type": "markdown",
      "source": [
        "# Get Original Data  \n",
        "ref link: https://stackoverflow.com/questions/600079/how-do-i-clone-a-subdirectory-only-of-a-git-repository/28039894#28039894"
      ],
      "metadata": {
        "id": "z8tUPknIUShq"
      }
    },
    {
      "cell_type": "markdown",
      "source": [
        "## connect to the github(Optional)\n",
        "please check [getOriginalData.ipynb](https://colab.research.google.com/drive/1C0-ILD3LMxTsIZfsyuNCyi_d_i0hk_Jb) to see \"Fail to clone: fatal: could not read Username for 'https://github.com': No such device or address\""
      ],
      "metadata": {
        "id": "S6YfMIo0YdUG"
      }
    },
    {
      "cell_type": "code",
      "source": [
        "!mkdir -p /root/.ssh"
      ],
      "metadata": {
        "id": "yjWGJPupzNps"
      },
      "execution_count": null,
      "outputs": []
    },
    {
      "cell_type": "code",
      "source": [
        "!ssh-keyscan -t rsa github.com >> /root/.ssh/known_hosts"
      ],
      "metadata": {
        "colab": {
          "base_uri": "https://localhost:8080/"
        },
        "id": "UOHM6OPShqnD",
        "outputId": "07c5afee-5564-4718-af64-b00736f61424"
      },
      "execution_count": null,
      "outputs": [
        {
          "output_type": "stream",
          "name": "stdout",
          "text": [
            "# github.com:22 SSH-2.0-babeld-05989c77\n"
          ]
        }
      ]
    },
    {
      "cell_type": "code",
      "source": [
        "!ssh-keygen -t rsa -C \"ql2547@nyu.edu\"\n",
        "# !ssh-keygen -t rsa -C \"ys5795@nyu.edu\"\n",
        "# !ssh-keygen -t rsa -C \"zg2442@nyu.edu\"\n",
        "# input your email"
      ],
      "metadata": {
        "colab": {
          "base_uri": "https://localhost:8080/"
        },
        "id": "VHDA9YuXzoAc",
        "outputId": "aafd7eda-bc3a-4c57-f2d2-6e974b90aeac"
      },
      "execution_count": null,
      "outputs": [
        {
          "output_type": "stream",
          "name": "stdout",
          "text": [
            "Generating public/private rsa key pair.\n",
            "Enter file in which to save the key (/root/.ssh/id_rsa): \n",
            "/root/.ssh/id_rsa already exists.\n",
            "Overwrite (y/n)? y\n",
            "Enter passphrase (empty for no passphrase): y\n",
            "Enter same passphrase again: \n",
            "Passphrases do not match.  Try again.\n",
            "Enter passphrase (empty for no passphrase): \n",
            "Enter same passphrase again: \n",
            "Your identification has been saved in /root/.ssh/id_rsa\n",
            "Your public key has been saved in /root/.ssh/id_rsa.pub\n",
            "The key fingerprint is:\n",
            "SHA256:bfPTwLWSi8vNgeqtXjrJv55LdxkY5cy7DRaCFKCfqCU ql2547@nyu.edu\n",
            "The key's randomart image is:\n",
            "+---[RSA 3072]----+\n",
            "|        ..o.  .  |\n",
            "|       . . . =   |\n",
            "|      .   . o *  |\n",
            "|       o o . * + |\n",
            "|    E o S + * *  |\n",
            "|     +   . = * * |\n",
            "|    .  . .= * = .|\n",
            "|        +B * +   |\n",
            "|       o*=Xoo    |\n",
            "+----[SHA256]-----+\n"
          ]
        }
      ]
    },
    {
      "cell_type": "code",
      "source": [
        "!ls /root/.ssh"
      ],
      "metadata": {
        "colab": {
          "base_uri": "https://localhost:8080/"
        },
        "id": "jXGKo0mvkiD_",
        "outputId": "df997aab-0ab8-4632-b4fe-bfd727e328fa"
      },
      "execution_count": null,
      "outputs": [
        {
          "output_type": "stream",
          "name": "stdout",
          "text": [
            "id_rsa\tid_rsa.pub  known_hosts  known_hosts.old\n"
          ]
        }
      ]
    },
    {
      "cell_type": "code",
      "source": [
        "!cat /root/.ssh/id_rsa.pub"
      ],
      "metadata": {
        "colab": {
          "base_uri": "https://localhost:8080/"
        },
        "id": "soBVfLBAkGVN",
        "outputId": "5914219c-79e5-4d76-97ed-8ce736c6d492"
      },
      "execution_count": null,
      "outputs": [
        {
          "output_type": "stream",
          "name": "stdout",
          "text": [
            "ssh-rsa AAAAB3NzaC1yc2EAAAADAQABAAABgQDN1M1aA/WztOzXCIaGHBxi7xwoxMbN4/jvcUN0EdUVxqSuJFe8tTDnhdoV6ftHq+add/pHCFqn6yo+ZOIvlkRpDsGQgmDtzMGtDxc2A7Jak2w/DXZLpYOxyVyy2WHmDh9jdb37Q2zPH5PmxN+hSjIs2MFVRT7OYHByN5W5AbAyT6UE5BAcUc2MvcYHVjL9Bzj2+U0p7nCUJJcOYgGy2gZJ9pdKFnZZ7vZ0mhl718tZkOof9MU9LXmUEd3pQAo3H+uW+Enai7XzBiyEYyoiTWmhbzMyvN2n1iSGqrWFfjCh0j6LIiZ1tfxi/11kP8PmckBYaTjijAlJvEleqoU5aO0dGmw/wv9rEi4w0rsevhVI43e5Dp20DpUrIExN5zssE206HGJ9DkmYdq7JLvGGgGE6D0/OxZD7bXOWwO1MhyuddZSPbDnH55R6XRmdPGkkMDHwGTY2dzW8jhx8ZAatncoP3rXIKzTeMC9PE/lH8stVuR+7BoiV4PougWnZ9bT2Zbs= ql2547@nyu.edu\n"
          ]
        }
      ]
    },
    {
      "cell_type": "code",
      "source": [
        "!ssh -T git@github.com"
      ],
      "metadata": {
        "colab": {
          "base_uri": "https://localhost:8080/"
        },
        "id": "o8zUV0b5mzOG",
        "outputId": "2665f7f9-88a2-43a2-cd7e-856596f7577b"
      },
      "execution_count": null,
      "outputs": [
        {
          "output_type": "stream",
          "name": "stdout",
          "text": [
            "Hi ChelseaLiu0822! You've successfully authenticated, but GitHub does not provide shell access.\n"
          ]
        }
      ]
    },
    {
      "cell_type": "code",
      "execution_count": null,
      "metadata": {
        "id": "g1ncYldO4Ybe",
        "colab": {
          "base_uri": "https://localhost:8080/"
        },
        "outputId": "83b6cfec-9323-4edd-f95a-86c36a2b1b58"
      },
      "outputs": [
        {
          "output_type": "stream",
          "name": "stdout",
          "text": [
            "fatal: destination path 'LDRPM-Loan-Default-Risk-Prediction-Model' already exists and is not an empty directory.\n",
            "/content/LDRPM-Loan-Default-Risk-Prediction-Model\n",
            "/content/LDRPM-Loan-Default-Risk-Prediction-Model/Data\n"
          ]
        }
      ],
      "source": [
        "!git clone --filter=blob:none --sparse  git@github.com:ChelseaLiu0822/LDRPM-Loan-Default-Risk-Prediction-Model.git\n",
        "%cd LDRPM-Loan-Default-Risk-Prediction-Model\n",
        "!git sparse-checkout add Data"
      ]
    },
    {
      "cell_type": "markdown",
      "source": [
        "## connect to GoogleDrive(Optional)"
      ],
      "metadata": {
        "id": "hq1YCExgqq5n"
      }
    },
    {
      "cell_type": "code",
      "source": [
        "from google.colab import drive\n",
        "drive.mount('/content/drive')"
      ],
      "metadata": {
        "colab": {
          "base_uri": "https://localhost:8080/"
        },
        "id": "KOnFzWOTq423",
        "outputId": "afe40f37-1a59-408f-bb04-c7198ad9adec"
      },
      "execution_count": null,
      "outputs": [
        {
          "output_type": "stream",
          "name": "stdout",
          "text": [
            "Mounted at /content/drive\n"
          ]
        }
      ]
    },
    {
      "cell_type": "code",
      "source": [
        "%cd /content/drive/MyDrive/BigData/LDRPM-Loan-Default-Risk-Prediction-Model"
      ],
      "metadata": {
        "colab": {
          "base_uri": "https://localhost:8080/"
        },
        "id": "QFnkGaakrlq2",
        "outputId": "ba96b2b7-9192-4964-ff35-4569e698d53a"
      },
      "execution_count": null,
      "outputs": [
        {
          "output_type": "stream",
          "name": "stdout",
          "text": [
            "/content\n"
          ]
        }
      ]
    },
    {
      "cell_type": "code",
      "source": [
        "!ls"
      ],
      "metadata": {
        "colab": {
          "base_uri": "https://localhost:8080/"
        },
        "id": "kt_-KbBwrvBB",
        "outputId": "9fcec028-a9f1-445d-a99f-715acf4d2269"
      },
      "execution_count": null,
      "outputs": [
        {
          "output_type": "stream",
          "name": "stdout",
          "text": [
            "OriginalData\n"
          ]
        }
      ]
    },
    {
      "cell_type": "markdown",
      "source": [
        "## download data"
      ],
      "metadata": {
        "id": "DMTOc568sVq4"
      }
    },
    {
      "cell_type": "code",
      "source": [
        "%cd Data"
      ],
      "metadata": {
        "id": "R_htwSqCvfyl"
      },
      "execution_count": null,
      "outputs": []
    },
    {
      "cell_type": "code",
      "source": [
        "!unzip OriginalData/parquet_files.zip"
      ],
      "metadata": {
        "colab": {
          "base_uri": "https://localhost:8080/"
        },
        "id": "_8eoq7gW4yPg",
        "outputId": "628ac0d3-180b-47b8-ccd0-b9f08cef82b2"
      },
      "execution_count": null,
      "outputs": [
        {
          "output_type": "stream",
          "name": "stdout",
          "text": [
            "Archive:  OriginalData/parquet_files.zip\n",
            "   creating: content/parquet_files/\n",
            "   creating: content/parquet_files/test/\n",
            "  inflating: content/parquet_files/test/test_credit_bureau_a_2_8.parquet  \n",
            "  inflating: content/parquet_files/test/test_static_cb_0.parquet  \n",
            "  inflating: content/parquet_files/test/test_debitcard_1.parquet  \n",
            "  inflating: content/parquet_files/test/test_credit_bureau_a_2_7.parquet  \n",
            "  inflating: content/parquet_files/test/test_base.parquet  \n",
            "  inflating: content/parquet_files/test/test_applprev_1_2.parquet  \n",
            "  inflating: content/parquet_files/test/test_credit_bureau_a_2_11.parquet  \n",
            "  inflating: content/parquet_files/test/test_applprev_1_0.parquet  \n",
            "  inflating: content/parquet_files/test/test_credit_bureau_a_2_9.parquet  \n",
            "  inflating: content/parquet_files/test/test_tax_registry_c_1.parquet  \n",
            "  inflating: content/parquet_files/test/test_credit_bureau_a_2_4.parquet  \n",
            "  inflating: content/parquet_files/test/test_credit_bureau_a_1_2.parquet  \n",
            "  inflating: content/parquet_files/test/test_credit_bureau_b_1.parquet  \n",
            "  inflating: content/parquet_files/test/test_credit_bureau_a_2_0.parquet  \n",
            "  inflating: content/parquet_files/test/test_credit_bureau_a_1_0.parquet  \n",
            "  inflating: content/parquet_files/test/test_credit_bureau_a_2_2.parquet  \n",
            "  inflating: content/parquet_files/test/test_other_1.parquet  \n",
            "  inflating: content/parquet_files/test/test_credit_bureau_a_2_6.parquet  \n",
            "  inflating: content/parquet_files/test/test_credit_bureau_a_1_3.parquet  \n",
            "  inflating: content/parquet_files/test/test_credit_bureau_a_2_1.parquet  \n",
            "  inflating: content/parquet_files/test/test_static_0_2.parquet  \n",
            "  inflating: content/parquet_files/test/test_tax_registry_a_1.parquet  \n",
            "  inflating: content/parquet_files/test/test_tax_registry_b_1.parquet  \n",
            "  inflating: content/parquet_files/test/test_static_0_0.parquet  \n",
            "  inflating: content/parquet_files/test/test_applprev_1_1.parquet  \n",
            "  inflating: content/parquet_files/test/test_deposit_1.parquet  \n",
            "  inflating: content/parquet_files/test/test_credit_bureau_b_2.parquet  \n",
            "  inflating: content/parquet_files/test/test_credit_bureau_a_1_4.parquet  \n",
            "  inflating: content/parquet_files/test/test_person_2.parquet  \n",
            "  inflating: content/parquet_files/test/test_credit_bureau_a_2_3.parquet  \n",
            "  inflating: content/parquet_files/test/test_applprev_2.parquet  \n",
            "  inflating: content/parquet_files/test/test_person_1.parquet  \n",
            "  inflating: content/parquet_files/test/test_credit_bureau_a_2_10.parquet  \n",
            "  inflating: content/parquet_files/test/test_static_0_1.parquet  \n",
            "  inflating: content/parquet_files/test/test_credit_bureau_a_2_5.parquet  \n",
            "  inflating: content/parquet_files/test/test_credit_bureau_a_1_1.parquet  \n",
            "   creating: content/parquet_files/train/\n",
            "  inflating: content/parquet_files/train/train_credit_bureau_a_2_8.parquet  \n",
            "  inflating: content/parquet_files/train/train_person_2.parquet  \n",
            "  inflating: content/parquet_files/train/train_other_1.parquet  \n",
            "  inflating: content/parquet_files/train/train_credit_bureau_a_2_10.parquet  \n",
            "  inflating: content/parquet_files/train/train_tax_registry_b_1.parquet  \n",
            "  inflating: content/parquet_files/train/train_person_1.parquet  \n",
            "  inflating: content/parquet_files/train/train_credit_bureau_a_2_6.parquet  \n",
            "  inflating: content/parquet_files/train/train_static_0_1.parquet  \n",
            "  inflating: content/parquet_files/train/train_credit_bureau_a_1_3.parquet  \n",
            "  inflating: content/parquet_files/train/train_credit_bureau_b_2.parquet  \n",
            "  inflating: content/parquet_files/train/train_base.parquet  \n",
            "  inflating: content/parquet_files/train/train_credit_bureau_a_2_5.parquet  \n",
            "  inflating: content/parquet_files/train/train_credit_bureau_a_2_1.parquet  \n",
            "  inflating: content/parquet_files/train/train_credit_bureau_a_2_3.parquet  \n",
            "  inflating: content/parquet_files/train/train_tax_registry_a_1.parquet  \n",
            "  inflating: content/parquet_files/train/train_credit_bureau_a_2_9.parquet  \n",
            "  inflating: content/parquet_files/train/train_credit_bureau_a_1_2.parquet  \n",
            "  inflating: content/parquet_files/train/train_tax_registry_c_1.parquet  \n",
            "  inflating: content/parquet_files/train/train_deposit_1.parquet  \n",
            "  inflating: content/parquet_files/train/train_credit_bureau_a_2_4.parquet  \n",
            "  inflating: content/parquet_files/train/train_credit_bureau_a_2_0.parquet  \n",
            "  inflating: content/parquet_files/train/train_credit_bureau_a_1_1.parquet  \n",
            "  inflating: content/parquet_files/train/train_credit_bureau_a_2_2.parquet  \n",
            "  inflating: content/parquet_files/train/train_applprev_1_1.parquet  \n",
            "  inflating: content/parquet_files/train/train_applprev_2.parquet  \n",
            "  inflating: content/parquet_files/train/train_credit_bureau_a_2_7.parquet  \n",
            "  inflating: content/parquet_files/train/train_credit_bureau_a_1_0.parquet  \n",
            "  inflating: content/parquet_files/train/train_credit_bureau_b_1.parquet  \n",
            "  inflating: content/parquet_files/train/train_static_0_0.parquet  \n",
            "  inflating: content/parquet_files/train/train_static_cb_0.parquet  \n",
            "  inflating: content/parquet_files/train/train_debitcard_1.parquet  \n",
            "  inflating: content/parquet_files/train/train_applprev_1_0.parquet  \n"
          ]
        }
      ]
    },
    {
      "cell_type": "code",
      "source": [
        "!mv content/parquet_files OriginalData"
      ],
      "metadata": {
        "id": "gCugjVln6g58"
      },
      "execution_count": null,
      "outputs": []
    },
    {
      "cell_type": "code",
      "source": [
        "!rm -r content"
      ],
      "metadata": {
        "id": "gNO4dNJf7mXB"
      },
      "execution_count": null,
      "outputs": []
    },
    {
      "cell_type": "code",
      "source": [
        "!pip install \"dask[complete]\""
      ],
      "metadata": {
        "colab": {
          "base_uri": "https://localhost:8080/"
        },
        "id": "5PZ5GGWJ8QhY",
        "outputId": "76746a3b-ee82-44cf-db37-6e8ae33c813c"
      },
      "execution_count": null,
      "outputs": [
        {
          "output_type": "stream",
          "name": "stdout",
          "text": [
            "Requirement already satisfied: dask[complete] in /usr/local/lib/python3.10/dist-packages (2023.8.1)\n",
            "Requirement already satisfied: click>=8.0 in /usr/local/lib/python3.10/dist-packages (from dask[complete]) (8.1.7)\n",
            "Requirement already satisfied: cloudpickle>=1.5.0 in /usr/local/lib/python3.10/dist-packages (from dask[complete]) (2.2.1)\n",
            "Requirement already satisfied: fsspec>=2021.09.0 in /usr/local/lib/python3.10/dist-packages (from dask[complete]) (2023.6.0)\n",
            "Requirement already satisfied: packaging>=20.0 in /usr/local/lib/python3.10/dist-packages (from dask[complete]) (24.0)\n",
            "Requirement already satisfied: partd>=1.2.0 in /usr/local/lib/python3.10/dist-packages (from dask[complete]) (1.4.1)\n",
            "Requirement already satisfied: pyyaml>=5.3.1 in /usr/local/lib/python3.10/dist-packages (from dask[complete]) (6.0.1)\n",
            "Requirement already satisfied: toolz>=0.10.0 in /usr/local/lib/python3.10/dist-packages (from dask[complete]) (0.12.1)\n",
            "Requirement already satisfied: importlib-metadata>=4.13.0 in /usr/local/lib/python3.10/dist-packages (from dask[complete]) (7.0.2)\n",
            "Requirement already satisfied: pyarrow>=7.0 in /usr/local/lib/python3.10/dist-packages (from dask[complete]) (14.0.2)\n",
            "Requirement already satisfied: lz4>=4.3.2 in /usr/local/lib/python3.10/dist-packages (from dask[complete]) (4.3.3)\n",
            "Requirement already satisfied: zipp>=0.5 in /usr/local/lib/python3.10/dist-packages (from importlib-metadata>=4.13.0->dask[complete]) (3.18.1)\n",
            "Requirement already satisfied: locket in /usr/local/lib/python3.10/dist-packages (from partd>=1.2.0->dask[complete]) (1.0.0)\n",
            "Requirement already satisfied: numpy>=1.16.6 in /usr/local/lib/python3.10/dist-packages (from pyarrow>=7.0->dask[complete]) (1.25.2)\n",
            "Requirement already satisfied: pandas>=1.3 in /usr/local/lib/python3.10/dist-packages (from dask[complete]) (1.5.3)\n",
            "Requirement already satisfied: distributed==2023.8.1 in /usr/local/lib/python3.10/dist-packages (from dask[complete]) (2023.8.1)\n",
            "Requirement already satisfied: bokeh>=2.4.2 in /usr/local/lib/python3.10/dist-packages (from dask[complete]) (3.3.4)\n",
            "Requirement already satisfied: jinja2>=2.10.3 in /usr/local/lib/python3.10/dist-packages (from dask[complete]) (3.1.3)\n",
            "Requirement already satisfied: msgpack>=1.0.0 in /usr/local/lib/python3.10/dist-packages (from distributed==2023.8.1->dask[complete]) (1.0.8)\n",
            "Requirement already satisfied: psutil>=5.7.2 in /usr/local/lib/python3.10/dist-packages (from distributed==2023.8.1->dask[complete]) (5.9.5)\n",
            "Requirement already satisfied: sortedcontainers>=2.0.5 in /usr/local/lib/python3.10/dist-packages (from distributed==2023.8.1->dask[complete]) (2.4.0)\n",
            "Requirement already satisfied: tblib>=1.6.0 in /usr/local/lib/python3.10/dist-packages (from distributed==2023.8.1->dask[complete]) (3.0.0)\n",
            "Requirement already satisfied: tornado>=6.0.4 in /usr/local/lib/python3.10/dist-packages (from distributed==2023.8.1->dask[complete]) (6.3.3)\n",
            "Requirement already satisfied: urllib3>=1.24.3 in /usr/local/lib/python3.10/dist-packages (from distributed==2023.8.1->dask[complete]) (2.0.7)\n",
            "Requirement already satisfied: zict>=2.2.0 in /usr/local/lib/python3.10/dist-packages (from distributed==2023.8.1->dask[complete]) (3.0.0)\n",
            "Requirement already satisfied: contourpy>=1 in /usr/local/lib/python3.10/dist-packages (from bokeh>=2.4.2->dask[complete]) (1.2.0)\n",
            "Requirement already satisfied: pillow>=7.1.0 in /usr/local/lib/python3.10/dist-packages (from bokeh>=2.4.2->dask[complete]) (9.4.0)\n",
            "Requirement already satisfied: xyzservices>=2021.09.1 in /usr/local/lib/python3.10/dist-packages (from bokeh>=2.4.2->dask[complete]) (2023.10.1)\n",
            "Requirement already satisfied: MarkupSafe>=2.0 in /usr/local/lib/python3.10/dist-packages (from jinja2>=2.10.3->dask[complete]) (2.1.5)\n",
            "Requirement already satisfied: python-dateutil>=2.8.1 in /usr/local/lib/python3.10/dist-packages (from pandas>=1.3->dask[complete]) (2.8.2)\n",
            "Requirement already satisfied: pytz>=2020.1 in /usr/local/lib/python3.10/dist-packages (from pandas>=1.3->dask[complete]) (2023.4)\n",
            "Requirement already satisfied: six>=1.5 in /usr/local/lib/python3.10/dist-packages (from python-dateutil>=2.8.1->pandas>=1.3->dask[complete]) (1.16.0)\n"
          ]
        }
      ]
    },
    {
      "cell_type": "code",
      "source": [
        "!python -m pip install \"dask[dataframe]\"   # Install requirements for dask dataframe"
      ],
      "metadata": {
        "colab": {
          "base_uri": "https://localhost:8080/"
        },
        "id": "8kKcbXqG9E_u",
        "outputId": "0206f586-ccee-4e31-8874-56afdd07b901"
      },
      "execution_count": null,
      "outputs": [
        {
          "output_type": "stream",
          "name": "stdout",
          "text": [
            "Requirement already satisfied: dask[dataframe] in /usr/local/lib/python3.10/dist-packages (2023.8.1)\n",
            "Requirement already satisfied: click>=8.0 in /usr/local/lib/python3.10/dist-packages (from dask[dataframe]) (8.1.7)\n",
            "Requirement already satisfied: cloudpickle>=1.5.0 in /usr/local/lib/python3.10/dist-packages (from dask[dataframe]) (2.2.1)\n",
            "Requirement already satisfied: fsspec>=2021.09.0 in /usr/local/lib/python3.10/dist-packages (from dask[dataframe]) (2023.6.0)\n",
            "Requirement already satisfied: packaging>=20.0 in /usr/local/lib/python3.10/dist-packages (from dask[dataframe]) (24.0)\n",
            "Requirement already satisfied: partd>=1.2.0 in /usr/local/lib/python3.10/dist-packages (from dask[dataframe]) (1.4.1)\n",
            "Requirement already satisfied: pyyaml>=5.3.1 in /usr/local/lib/python3.10/dist-packages (from dask[dataframe]) (6.0.1)\n",
            "Requirement already satisfied: toolz>=0.10.0 in /usr/local/lib/python3.10/dist-packages (from dask[dataframe]) (0.12.1)\n",
            "Requirement already satisfied: importlib-metadata>=4.13.0 in /usr/local/lib/python3.10/dist-packages (from dask[dataframe]) (7.0.2)\n",
            "Requirement already satisfied: pandas>=1.3 in /usr/local/lib/python3.10/dist-packages (from dask[dataframe]) (1.5.3)\n",
            "Requirement already satisfied: zipp>=0.5 in /usr/local/lib/python3.10/dist-packages (from importlib-metadata>=4.13.0->dask[dataframe]) (3.18.1)\n",
            "Requirement already satisfied: python-dateutil>=2.8.1 in /usr/local/lib/python3.10/dist-packages (from pandas>=1.3->dask[dataframe]) (2.8.2)\n",
            "Requirement already satisfied: pytz>=2020.1 in /usr/local/lib/python3.10/dist-packages (from pandas>=1.3->dask[dataframe]) (2023.4)\n",
            "Requirement already satisfied: numpy>=1.21.0 in /usr/local/lib/python3.10/dist-packages (from pandas>=1.3->dask[dataframe]) (1.25.2)\n",
            "Requirement already satisfied: locket in /usr/local/lib/python3.10/dist-packages (from partd>=1.2.0->dask[dataframe]) (1.0.0)\n",
            "Requirement already satisfied: six>=1.5 in /usr/local/lib/python3.10/dist-packages (from python-dateutil>=2.8.1->pandas>=1.3->dask[dataframe]) (1.16.0)\n"
          ]
        }
      ]
    },
    {
      "cell_type": "markdown",
      "source": [
        "# Load Data"
      ],
      "metadata": {
        "id": "k1HhiBm89LiN"
      }
    },
    {
      "cell_type": "code",
      "source": [
        "import pandas as pd\n",
        "import dask.dataframe as dd\n",
        "import zipfile\n",
        "import os\n",
        "import itertools"
      ],
      "metadata": {
        "id": "r0aTaXQjbtJg"
      },
      "execution_count": null,
      "outputs": []
    },
    {
      "cell_type": "code",
      "source": [
        "ROOT = 'OriginalData/'\n",
        "TRAIN_DIR = ROOT+'train/'\n",
        "TEST_DIR = ROOT+'test/'"
      ],
      "metadata": {
        "id": "Slop9YbYA8Rb"
      },
      "execution_count": null,
      "outputs": []
    },
    {
      "cell_type": "markdown",
      "source": [
        "## Load Features"
      ],
      "metadata": {
        "id": "MwqOao5mbjvu"
      }
    },
    {
      "cell_type": "code",
      "source": [
        "ROOT = 'OriginalData/'\n",
        "TRAIN_DIR = ROOT+'parquet_files/train/'\n",
        "TEST_DIR = ROOT+'parquet_files/test/'\n",
        "base_store = {\n",
        "    'base' : ['base'],\n",
        "    'depth0' : ['static_0', 'static_cb_0'],\n",
        "    'depth1' : ['applprev_1','other_1','tax_registry_a_1','tax_registry_b_1','tax_registry_c_1','credit_bureau_a_1','credit_bureau_b_1','deposit_1','person_1','debitcard_1'],\n",
        "    'depth2' : ['applprev_2','person_2','credit_bureau_a_2','credit_bureau_b_2']\n",
        "}"
      ],
      "metadata": {
        "id": "TDwLwNpiE6my"
      },
      "execution_count": null,
      "outputs": []
    },
    {
      "cell_type": "code",
      "source": [
        "feats_description = pd.read_parquet('OriginalData/feature_definitions_dtypes_tables.parquet')\n",
        "feats_description"
      ],
      "metadata": {
        "colab": {
          "base_uri": "https://localhost:8080/",
          "height": 527
        },
        "id": "ForFn1Fjbf4f",
        "outputId": "08be8bf3-0a16-4f3f-d28a-8034652fe928"
      },
      "execution_count": null,
      "outputs": [
        {
          "output_type": "execute_result",
          "data": {
            "text/plain": [
              "                     Variable  \\\n",
              "0              actualdpd_943P   \n",
              "1     actualdpdtolerance_344P   \n",
              "2        addres_district_368M   \n",
              "3            addres_role_871L   \n",
              "4             addres_zip_823M   \n",
              "..                        ...   \n",
              "460  totinstallast1m_4525188A   \n",
              "461        twobodfilling_608L   \n",
              "462                  type_25L   \n",
              "463            typesuite_864L   \n",
              "464           validfrom_1069D   \n",
              "\n",
              "                                           Description    dtype  \\\n",
              "0    Days Past Due (DPD) of previous contract (actu...  Float64   \n",
              "1                        DPD of client with tolerance.  Float64   \n",
              "2                    District of the person's address.   String   \n",
              "3                            Role of person's address.   String   \n",
              "4                             Zip code of the address.   String   \n",
              "..                                                 ...      ...   \n",
              "460  Total amount of monthly instalments paid in th...  Float64   \n",
              "461                       Type of application process.   String   \n",
              "462                          Contact type of a person.   String   \n",
              "463  Persons accompanying the client during the loa...   String   \n",
              "464      Date since the client has an active campaign.     Date   \n",
              "\n",
              "                                       tables  \n",
              "0    [train_applprev_1_0, train_applprev_1_1]  \n",
              "1        [train_static_0_0, train_static_0_1]  \n",
              "2                            [train_person_2]  \n",
              "3                            [train_person_2]  \n",
              "4                            [train_person_2]  \n",
              "..                                        ...  \n",
              "460      [train_static_0_0, train_static_0_1]  \n",
              "461      [train_static_0_0, train_static_0_1]  \n",
              "462                          [train_person_1]  \n",
              "463      [train_static_0_0, train_static_0_1]  \n",
              "464      [train_static_0_0, train_static_0_1]  \n",
              "\n",
              "[465 rows x 4 columns]"
            ],
            "text/html": [
              "\n",
              "  <div id=\"df-8e5a197c-eeef-4986-858e-ef1af961db64\" class=\"colab-df-container\">\n",
              "    <div>\n",
              "<style scoped>\n",
              "    .dataframe tbody tr th:only-of-type {\n",
              "        vertical-align: middle;\n",
              "    }\n",
              "\n",
              "    .dataframe tbody tr th {\n",
              "        vertical-align: top;\n",
              "    }\n",
              "\n",
              "    .dataframe thead th {\n",
              "        text-align: right;\n",
              "    }\n",
              "</style>\n",
              "<table border=\"1\" class=\"dataframe\">\n",
              "  <thead>\n",
              "    <tr style=\"text-align: right;\">\n",
              "      <th></th>\n",
              "      <th>Variable</th>\n",
              "      <th>Description</th>\n",
              "      <th>dtype</th>\n",
              "      <th>tables</th>\n",
              "    </tr>\n",
              "  </thead>\n",
              "  <tbody>\n",
              "    <tr>\n",
              "      <th>0</th>\n",
              "      <td>actualdpd_943P</td>\n",
              "      <td>Days Past Due (DPD) of previous contract (actu...</td>\n",
              "      <td>Float64</td>\n",
              "      <td>[train_applprev_1_0, train_applprev_1_1]</td>\n",
              "    </tr>\n",
              "    <tr>\n",
              "      <th>1</th>\n",
              "      <td>actualdpdtolerance_344P</td>\n",
              "      <td>DPD of client with tolerance.</td>\n",
              "      <td>Float64</td>\n",
              "      <td>[train_static_0_0, train_static_0_1]</td>\n",
              "    </tr>\n",
              "    <tr>\n",
              "      <th>2</th>\n",
              "      <td>addres_district_368M</td>\n",
              "      <td>District of the person's address.</td>\n",
              "      <td>String</td>\n",
              "      <td>[train_person_2]</td>\n",
              "    </tr>\n",
              "    <tr>\n",
              "      <th>3</th>\n",
              "      <td>addres_role_871L</td>\n",
              "      <td>Role of person's address.</td>\n",
              "      <td>String</td>\n",
              "      <td>[train_person_2]</td>\n",
              "    </tr>\n",
              "    <tr>\n",
              "      <th>4</th>\n",
              "      <td>addres_zip_823M</td>\n",
              "      <td>Zip code of the address.</td>\n",
              "      <td>String</td>\n",
              "      <td>[train_person_2]</td>\n",
              "    </tr>\n",
              "    <tr>\n",
              "      <th>...</th>\n",
              "      <td>...</td>\n",
              "      <td>...</td>\n",
              "      <td>...</td>\n",
              "      <td>...</td>\n",
              "    </tr>\n",
              "    <tr>\n",
              "      <th>460</th>\n",
              "      <td>totinstallast1m_4525188A</td>\n",
              "      <td>Total amount of monthly instalments paid in th...</td>\n",
              "      <td>Float64</td>\n",
              "      <td>[train_static_0_0, train_static_0_1]</td>\n",
              "    </tr>\n",
              "    <tr>\n",
              "      <th>461</th>\n",
              "      <td>twobodfilling_608L</td>\n",
              "      <td>Type of application process.</td>\n",
              "      <td>String</td>\n",
              "      <td>[train_static_0_0, train_static_0_1]</td>\n",
              "    </tr>\n",
              "    <tr>\n",
              "      <th>462</th>\n",
              "      <td>type_25L</td>\n",
              "      <td>Contact type of a person.</td>\n",
              "      <td>String</td>\n",
              "      <td>[train_person_1]</td>\n",
              "    </tr>\n",
              "    <tr>\n",
              "      <th>463</th>\n",
              "      <td>typesuite_864L</td>\n",
              "      <td>Persons accompanying the client during the loa...</td>\n",
              "      <td>String</td>\n",
              "      <td>[train_static_0_0, train_static_0_1]</td>\n",
              "    </tr>\n",
              "    <tr>\n",
              "      <th>464</th>\n",
              "      <td>validfrom_1069D</td>\n",
              "      <td>Date since the client has an active campaign.</td>\n",
              "      <td>Date</td>\n",
              "      <td>[train_static_0_0, train_static_0_1]</td>\n",
              "    </tr>\n",
              "  </tbody>\n",
              "</table>\n",
              "<p>465 rows × 4 columns</p>\n",
              "</div>\n",
              "    <div class=\"colab-df-buttons\">\n",
              "\n",
              "  <div class=\"colab-df-container\">\n",
              "    <button class=\"colab-df-convert\" onclick=\"convertToInteractive('df-8e5a197c-eeef-4986-858e-ef1af961db64')\"\n",
              "            title=\"Convert this dataframe to an interactive table.\"\n",
              "            style=\"display:none;\">\n",
              "\n",
              "  <svg xmlns=\"http://www.w3.org/2000/svg\" height=\"24px\" viewBox=\"0 -960 960 960\">\n",
              "    <path d=\"M120-120v-720h720v720H120Zm60-500h600v-160H180v160Zm220 220h160v-160H400v160Zm0 220h160v-160H400v160ZM180-400h160v-160H180v160Zm440 0h160v-160H620v160ZM180-180h160v-160H180v160Zm440 0h160v-160H620v160Z\"/>\n",
              "  </svg>\n",
              "    </button>\n",
              "\n",
              "  <style>\n",
              "    .colab-df-container {\n",
              "      display:flex;\n",
              "      gap: 12px;\n",
              "    }\n",
              "\n",
              "    .colab-df-convert {\n",
              "      background-color: #E8F0FE;\n",
              "      border: none;\n",
              "      border-radius: 50%;\n",
              "      cursor: pointer;\n",
              "      display: none;\n",
              "      fill: #1967D2;\n",
              "      height: 32px;\n",
              "      padding: 0 0 0 0;\n",
              "      width: 32px;\n",
              "    }\n",
              "\n",
              "    .colab-df-convert:hover {\n",
              "      background-color: #E2EBFA;\n",
              "      box-shadow: 0px 1px 2px rgba(60, 64, 67, 0.3), 0px 1px 3px 1px rgba(60, 64, 67, 0.15);\n",
              "      fill: #174EA6;\n",
              "    }\n",
              "\n",
              "    .colab-df-buttons div {\n",
              "      margin-bottom: 4px;\n",
              "    }\n",
              "\n",
              "    [theme=dark] .colab-df-convert {\n",
              "      background-color: #3B4455;\n",
              "      fill: #D2E3FC;\n",
              "    }\n",
              "\n",
              "    [theme=dark] .colab-df-convert:hover {\n",
              "      background-color: #434B5C;\n",
              "      box-shadow: 0px 1px 3px 1px rgba(0, 0, 0, 0.15);\n",
              "      filter: drop-shadow(0px 1px 2px rgba(0, 0, 0, 0.3));\n",
              "      fill: #FFFFFF;\n",
              "    }\n",
              "  </style>\n",
              "\n",
              "    <script>\n",
              "      const buttonEl =\n",
              "        document.querySelector('#df-8e5a197c-eeef-4986-858e-ef1af961db64 button.colab-df-convert');\n",
              "      buttonEl.style.display =\n",
              "        google.colab.kernel.accessAllowed ? 'block' : 'none';\n",
              "\n",
              "      async function convertToInteractive(key) {\n",
              "        const element = document.querySelector('#df-8e5a197c-eeef-4986-858e-ef1af961db64');\n",
              "        const dataTable =\n",
              "          await google.colab.kernel.invokeFunction('convertToInteractive',\n",
              "                                                    [key], {});\n",
              "        if (!dataTable) return;\n",
              "\n",
              "        const docLinkHtml = 'Like what you see? Visit the ' +\n",
              "          '<a target=\"_blank\" href=https://colab.research.google.com/notebooks/data_table.ipynb>data table notebook</a>'\n",
              "          + ' to learn more about interactive tables.';\n",
              "        element.innerHTML = '';\n",
              "        dataTable['output_type'] = 'display_data';\n",
              "        await google.colab.output.renderOutput(dataTable, element);\n",
              "        const docLink = document.createElement('div');\n",
              "        docLink.innerHTML = docLinkHtml;\n",
              "        element.appendChild(docLink);\n",
              "      }\n",
              "    </script>\n",
              "  </div>\n",
              "\n",
              "\n",
              "<div id=\"df-241fb0e1-82e1-4c69-960c-742c7266cc2d\">\n",
              "  <button class=\"colab-df-quickchart\" onclick=\"quickchart('df-241fb0e1-82e1-4c69-960c-742c7266cc2d')\"\n",
              "            title=\"Suggest charts\"\n",
              "            style=\"display:none;\">\n",
              "\n",
              "<svg xmlns=\"http://www.w3.org/2000/svg\" height=\"24px\"viewBox=\"0 0 24 24\"\n",
              "     width=\"24px\">\n",
              "    <g>\n",
              "        <path d=\"M19 3H5c-1.1 0-2 .9-2 2v14c0 1.1.9 2 2 2h14c1.1 0 2-.9 2-2V5c0-1.1-.9-2-2-2zM9 17H7v-7h2v7zm4 0h-2V7h2v10zm4 0h-2v-4h2v4z\"/>\n",
              "    </g>\n",
              "</svg>\n",
              "  </button>\n",
              "\n",
              "<style>\n",
              "  .colab-df-quickchart {\n",
              "      --bg-color: #E8F0FE;\n",
              "      --fill-color: #1967D2;\n",
              "      --hover-bg-color: #E2EBFA;\n",
              "      --hover-fill-color: #174EA6;\n",
              "      --disabled-fill-color: #AAA;\n",
              "      --disabled-bg-color: #DDD;\n",
              "  }\n",
              "\n",
              "  [theme=dark] .colab-df-quickchart {\n",
              "      --bg-color: #3B4455;\n",
              "      --fill-color: #D2E3FC;\n",
              "      --hover-bg-color: #434B5C;\n",
              "      --hover-fill-color: #FFFFFF;\n",
              "      --disabled-bg-color: #3B4455;\n",
              "      --disabled-fill-color: #666;\n",
              "  }\n",
              "\n",
              "  .colab-df-quickchart {\n",
              "    background-color: var(--bg-color);\n",
              "    border: none;\n",
              "    border-radius: 50%;\n",
              "    cursor: pointer;\n",
              "    display: none;\n",
              "    fill: var(--fill-color);\n",
              "    height: 32px;\n",
              "    padding: 0;\n",
              "    width: 32px;\n",
              "  }\n",
              "\n",
              "  .colab-df-quickchart:hover {\n",
              "    background-color: var(--hover-bg-color);\n",
              "    box-shadow: 0 1px 2px rgba(60, 64, 67, 0.3), 0 1px 3px 1px rgba(60, 64, 67, 0.15);\n",
              "    fill: var(--button-hover-fill-color);\n",
              "  }\n",
              "\n",
              "  .colab-df-quickchart-complete:disabled,\n",
              "  .colab-df-quickchart-complete:disabled:hover {\n",
              "    background-color: var(--disabled-bg-color);\n",
              "    fill: var(--disabled-fill-color);\n",
              "    box-shadow: none;\n",
              "  }\n",
              "\n",
              "  .colab-df-spinner {\n",
              "    border: 2px solid var(--fill-color);\n",
              "    border-color: transparent;\n",
              "    border-bottom-color: var(--fill-color);\n",
              "    animation:\n",
              "      spin 1s steps(1) infinite;\n",
              "  }\n",
              "\n",
              "  @keyframes spin {\n",
              "    0% {\n",
              "      border-color: transparent;\n",
              "      border-bottom-color: var(--fill-color);\n",
              "      border-left-color: var(--fill-color);\n",
              "    }\n",
              "    20% {\n",
              "      border-color: transparent;\n",
              "      border-left-color: var(--fill-color);\n",
              "      border-top-color: var(--fill-color);\n",
              "    }\n",
              "    30% {\n",
              "      border-color: transparent;\n",
              "      border-left-color: var(--fill-color);\n",
              "      border-top-color: var(--fill-color);\n",
              "      border-right-color: var(--fill-color);\n",
              "    }\n",
              "    40% {\n",
              "      border-color: transparent;\n",
              "      border-right-color: var(--fill-color);\n",
              "      border-top-color: var(--fill-color);\n",
              "    }\n",
              "    60% {\n",
              "      border-color: transparent;\n",
              "      border-right-color: var(--fill-color);\n",
              "    }\n",
              "    80% {\n",
              "      border-color: transparent;\n",
              "      border-right-color: var(--fill-color);\n",
              "      border-bottom-color: var(--fill-color);\n",
              "    }\n",
              "    90% {\n",
              "      border-color: transparent;\n",
              "      border-bottom-color: var(--fill-color);\n",
              "    }\n",
              "  }\n",
              "</style>\n",
              "\n",
              "  <script>\n",
              "    async function quickchart(key) {\n",
              "      const quickchartButtonEl =\n",
              "        document.querySelector('#' + key + ' button');\n",
              "      quickchartButtonEl.disabled = true;  // To prevent multiple clicks.\n",
              "      quickchartButtonEl.classList.add('colab-df-spinner');\n",
              "      try {\n",
              "        const charts = await google.colab.kernel.invokeFunction(\n",
              "            'suggestCharts', [key], {});\n",
              "      } catch (error) {\n",
              "        console.error('Error during call to suggestCharts:', error);\n",
              "      }\n",
              "      quickchartButtonEl.classList.remove('colab-df-spinner');\n",
              "      quickchartButtonEl.classList.add('colab-df-quickchart-complete');\n",
              "    }\n",
              "    (() => {\n",
              "      let quickchartButtonEl =\n",
              "        document.querySelector('#df-241fb0e1-82e1-4c69-960c-742c7266cc2d button');\n",
              "      quickchartButtonEl.style.display =\n",
              "        google.colab.kernel.accessAllowed ? 'block' : 'none';\n",
              "    })();\n",
              "  </script>\n",
              "</div>\n",
              "    </div>\n",
              "  </div>\n"
            ],
            "application/vnd.google.colaboratory.intrinsic+json": {
              "type": "dataframe",
              "variable_name": "feats_description",
              "summary": "{\n  \"name\": \"feats_description\",\n  \"rows\": 465,\n  \"fields\": [\n    {\n      \"column\": \"Variable\",\n      \"properties\": {\n        \"dtype\": \"string\",\n        \"num_unique_values\": 465,\n        \"samples\": [\n          \"clientscnt_1130L\",\n          \"collaterals_typeofguarante_669M\",\n          \"avgdpdtolclosure24_3658938P\"\n        ],\n        \"semantic_type\": \"\",\n        \"description\": \"\"\n      }\n    },\n    {\n      \"column\": \"Description\",\n      \"properties\": {\n        \"dtype\": \"string\",\n        \"num_unique_values\": 436,\n        \"samples\": [\n          \"Relationship to the client.\",\n          \"Zip code of contact address.\",\n          \"Interest rate of the active contract.\"\n        ],\n        \"semantic_type\": \"\",\n        \"description\": \"\"\n      }\n    },\n    {\n      \"column\": \"dtype\",\n      \"properties\": {\n        \"dtype\": \"category\",\n        \"num_unique_values\": 4,\n        \"samples\": [\n          \"String\",\n          \"Boolean\",\n          \"Float64\"\n        ],\n        \"semantic_type\": \"\",\n        \"description\": \"\"\n      }\n    },\n    {\n      \"column\": \"tables\",\n      \"properties\": {\n        \"dtype\": \"object\",\n        \"semantic_type\": \"\",\n        \"description\": \"\"\n      }\n    }\n  ]\n}"
            }
          },
          "metadata": {},
          "execution_count": 17
        }
      ]
    },
    {
      "cell_type": "markdown",
      "source": [],
      "metadata": {
        "id": "OZyq30lF7-7q"
      }
    },
    {
      "cell_type": "markdown",
      "source": [
        "There's are 465 Variable & 436 Description\n",
        "\n",
        "**P - Transform DPD (Days past due)**\n",
        "\n",
        "Ex) DPD previous contract, DPD of client with tolerance\n",
        "\n",
        "**M - Masking categories**\n",
        "\n",
        "Ex) District of the person's address, Role of the person's address\n",
        "\n",
        "**A - Transform amount**\n",
        "\n",
        "Ex) Deposit Amount & Tax Deduction Amount\n",
        "\n",
        "**D - Transform date**\n",
        "\n",
        "Ex) Date of birth of the person, End date of deposit contract\n",
        "\n",
        "**T - Unspecified Transform**\n",
        "\n",
        "Ex) Type of income of the person, Month when the maximum Day Past Due (DPD) occurred for active contracts on credit bureau's records\n",
        "\n",
        "**L - Unspecified Transform**\n",
        "\n",
        "Ex) Type of application process,Interest rate for the active contracts\n",
        "\n",
        "Please note that transformations within a group are denoted by a capital letter at the end of the predictor name (e.g., maxdbddpdtollast6m_4187119P). They hope that this will simplify the manipulation with predictors."
      ],
      "metadata": {
        "id": "XvLnGeayFFlo"
      }
    },
    {
      "cell_type": "code",
      "source": [
        "# show all columns classified by depth and ended capital letter\n",
        "classified_letters = ['P','M','A','D','T','L']\n",
        "combinations = list(itertools.product(classified_letters, ['depth1','depth2']))\n",
        "for pairs in combinations:\n",
        "  print('variables ended with {0}\\n'.format(pairs[0]))\n",
        "  print('Variables in {0} tables'.format(pairs[1]))\n",
        "  for index, row in feats_description[feats_description['Variable'].str.endswith(pairs[0])].iterrows():\n",
        "    str_tables=','.join(row['tables'])\n",
        "    if any(element in str_tables for element in base_store[pairs[1]]):\n",
        "      print('\\t'.join([row.Variable,row.Description,str_tables]))\n",
        "  print('\\n')"
      ],
      "metadata": {
        "colab": {
          "base_uri": "https://localhost:8080/"
        },
        "id": "7-bG5R_hbkOC",
        "outputId": "3b679670-ec6d-4946-b9c2-16ca3cf3fa26"
      },
      "execution_count": null,
      "outputs": [
        {
          "output_type": "stream",
          "name": "stdout",
          "text": [
            "variables ended with P\n",
            "\n",
            "Variables in depth1 tables\n",
            "actualdpd_943P\tDays Past Due (DPD) of previous contract (actual).\ttrain_applprev_1_0,train_applprev_1_1\n",
            "dpd_550P\tThe number of days past due for active loans where a guarantee has been provided.\ttrain_credit_bureau_b_1\n",
            "dpd_733P\tDays past due (DPD) for guaranteed loans that were terminated according to credit bureau data.\ttrain_credit_bureau_b_1\n",
            "dpdmax_139P\tMaximal days past due for active contract.\ttrain_credit_bureau_a_1_0,train_credit_bureau_a_1_1,train_credit_bureau_a_1_2,train_credit_bureau_a_1_3\n",
            "dpdmax_757P\tMaximum days past due for a closed contract.\ttrain_credit_bureau_a_1_0,train_credit_bureau_a_1_1,train_credit_bureau_a_1_2,train_credit_bureau_a_1_3\n",
            "dpdmax_851P\tMaximal past due days for active contracts in the credit bureau.\ttrain_credit_bureau_b_1\n",
            "maxdpdtolerance_577P\tMaximum DPD with tolerance (on previous application/s).\ttrain_applprev_1_0,train_applprev_1_1\n",
            "pmtdaysoverdue_1135P\tNumber of days past due for existing contracts in the credit bureau.\ttrain_credit_bureau_b_1\n",
            "\n",
            "\n",
            "variables ended with P\n",
            "\n",
            "Variables in depth2 tables\n",
            "pmts_dpd_1073P\tDays past due of the payment for the active contract (num_group1 - existing contract, num_group2 - payment).\ttrain_credit_bureau_a_2_0,train_credit_bureau_a_2_1,train_credit_bureau_a_2_10,train_credit_bureau_a_2_2,train_credit_bureau_a_2_3,train_credit_bureau_a_2_4,train_credit_bureau_a_2_5,train_credit_bureau_a_2_6,train_credit_bureau_a_2_7,train_credit_bureau_a_2_8,train_credit_bureau_a_2_9\n",
            "pmts_dpd_303P\tDays past due of the payment for terminated contract according to credit bureau (num_group1 - terminated contract, num_group2 - payment).\ttrain_credit_bureau_a_2_0,train_credit_bureau_a_2_1,train_credit_bureau_a_2_10,train_credit_bureau_a_2_2,train_credit_bureau_a_2_3,train_credit_bureau_a_2_4,train_credit_bureau_a_2_5,train_credit_bureau_a_2_6,train_credit_bureau_a_2_7,train_credit_bureau_a_2_8,train_credit_bureau_a_2_9\n",
            "pmts_dpdvalue_108P\tValue of past due payment for active contract (num_group1 - existing contract, num_group2 - payment).\ttrain_credit_bureau_b_2\n",
            "\n",
            "\n",
            "variables ended with M\n",
            "\n",
            "Variables in depth1 tables\n",
            "cancelreason_3545846M\tApplication cancellation reason.\ttrain_applprev_1_0,train_applprev_1_1\n",
            "classificationofcontr_1114M\tClassificiation of the active contract.\ttrain_credit_bureau_b_1\n",
            "classificationofcontr_13M\tClassificiation of the active contract.\ttrain_credit_bureau_a_1_0,train_credit_bureau_a_1_1,train_credit_bureau_a_1_2,train_credit_bureau_a_1_3\n",
            "classificationofcontr_400M\tClassificiation of the closed contract.\ttrain_credit_bureau_a_1_0,train_credit_bureau_a_1_1,train_credit_bureau_a_1_2,train_credit_bureau_a_1_3\n",
            "contaddr_district_15M\tZip code of a contact person's address.\ttrain_person_1\n",
            "contaddr_zipcode_807M\tZip code of contact address.\ttrain_person_1\n",
            "contractst_516M\tContract status.\ttrain_credit_bureau_b_1\n",
            "contractst_545M\tContract status.\ttrain_credit_bureau_a_1_0,train_credit_bureau_a_1_1,train_credit_bureau_a_1_2,train_credit_bureau_a_1_3\n",
            "contractst_964M\tContract status of terminated credit contract.\ttrain_credit_bureau_a_1_0,train_credit_bureau_a_1_1,train_credit_bureau_a_1_2,train_credit_bureau_a_1_3\n",
            "contracttype_653M\tContract Type\ttrain_credit_bureau_b_1\n",
            "credor_3940957M\tCreditor's name\ttrain_credit_bureau_b_1\n",
            "description_351M\tCategorization of clients by credit bureau.\ttrain_credit_bureau_a_1_0,train_credit_bureau_a_1_1,train_credit_bureau_a_1_2,train_credit_bureau_a_1_3\n",
            "district_544M\tDistrict of the address used in the previous loan application.\ttrain_applprev_1_0,train_applprev_1_1\n",
            "education_1138M\tApplicant's education level from their previous application.\ttrain_applprev_1_0,train_applprev_1_1\n",
            "education_927M\tEducation level of the person.\ttrain_person_1\n",
            "empladdr_district_926M\tDistrict where the employer's address is located.\ttrain_person_1\n",
            "empladdr_zipcode_114M\tZipcode of employer's address.\ttrain_person_1\n",
            "employername_160M\tEmployer's name.\ttrain_tax_registry_c_1\n",
            "financialinstitution_382M\tName of financial institution that is linked to a closed contract.\ttrain_credit_bureau_a_1_0,train_credit_bureau_a_1_1,train_credit_bureau_a_1_2,train_credit_bureau_a_1_3\n",
            "financialinstitution_591M\tFinancial institution name of the active contract.\ttrain_credit_bureau_a_1_0,train_credit_bureau_a_1_1,train_credit_bureau_a_1_2,train_credit_bureau_a_1_3\n",
            "language1_981M\tThe primary language of the person.\ttrain_person_1\n",
            "name_4527232M\tName of employer.\ttrain_tax_registry_a_1\n",
            "name_4917606M\tName of employer.\ttrain_tax_registry_b_1\n",
            "periodicityofpmts_997M\tFrequency of instalments for active credit contracts.\ttrain_credit_bureau_b_1\n",
            "pmtmethod_731M\tInstalment payment method for existing contract in credit bureau.\ttrain_credit_bureau_b_1\n",
            "postype_4733339M\tType of point of sale.\ttrain_applprev_1_0,train_applprev_1_1\n",
            "profession_152M\tProfession of the client during their previous loan application.\ttrain_applprev_1_0,train_applprev_1_1\n",
            "purposeofcred_426M\tPurpose of credit for active contract.\ttrain_credit_bureau_a_1_0,train_credit_bureau_a_1_1,train_credit_bureau_a_1_2,train_credit_bureau_a_1_3\n",
            "purposeofcred_722M\tPurpose of credit for active contracts.\ttrain_credit_bureau_b_1\n",
            "purposeofcred_874M\tPurpose of credit on a closed contract.\ttrain_credit_bureau_a_1_0,train_credit_bureau_a_1_1,train_credit_bureau_a_1_2,train_credit_bureau_a_1_3\n",
            "registaddr_district_1083M\tDistrict of person's registered address.\ttrain_person_1\n",
            "registaddr_zipcode_184M\tRegistered address's zip code of a person.\ttrain_person_1\n",
            "rejectreason_755M\tReason for previous application rejection.\ttrain_applprev_1_0,train_applprev_1_1\n",
            "rejectreasonclient_4145042M\tReason for rejection of the client's previous application.\ttrain_applprev_1_0,train_applprev_1_1\n",
            "subjectrole_182M\tSubject role in active credit contract.\ttrain_credit_bureau_a_1_0,train_credit_bureau_a_1_1,train_credit_bureau_a_1_2,train_credit_bureau_a_1_3\n",
            "subjectrole_326M\tSubject role in active credit contract.\ttrain_credit_bureau_b_1\n",
            "subjectrole_43M\tSubject role in closed credit contract.\ttrain_credit_bureau_b_1\n",
            "subjectrole_93M\tSubject role in closed credit contract.\ttrain_credit_bureau_a_1_0,train_credit_bureau_a_1_1,train_credit_bureau_a_1_2,train_credit_bureau_a_1_3\n",
            "\n",
            "\n",
            "variables ended with M\n",
            "\n",
            "Variables in depth2 tables\n",
            "addres_district_368M\tDistrict of the person's address.\ttrain_person_2\n",
            "addres_zip_823M\tZip code of the address.\ttrain_person_2\n",
            "cacccardblochreas_147M\tCard blocking reason.\ttrain_applprev_2\n",
            "collater_typofvalofguarant_298M\tCollateral valuation type (active contract).\ttrain_credit_bureau_a_2_0,train_credit_bureau_a_2_1,train_credit_bureau_a_2_10,train_credit_bureau_a_2_2,train_credit_bureau_a_2_3,train_credit_bureau_a_2_4,train_credit_bureau_a_2_5,train_credit_bureau_a_2_6,train_credit_bureau_a_2_7,train_credit_bureau_a_2_8,train_credit_bureau_a_2_9\n",
            "collater_typofvalofguarant_407M\tCollateral valuation type (closed contract).\ttrain_credit_bureau_a_2_0,train_credit_bureau_a_2_1,train_credit_bureau_a_2_10,train_credit_bureau_a_2_2,train_credit_bureau_a_2_3,train_credit_bureau_a_2_4,train_credit_bureau_a_2_5,train_credit_bureau_a_2_6,train_credit_bureau_a_2_7,train_credit_bureau_a_2_8,train_credit_bureau_a_2_9\n",
            "collaterals_typeofguarante_359M\tType of collateral that was used as a guarantee for a closed contract.\ttrain_credit_bureau_a_2_0,train_credit_bureau_a_2_1,train_credit_bureau_a_2_10,train_credit_bureau_a_2_2,train_credit_bureau_a_2_3,train_credit_bureau_a_2_4,train_credit_bureau_a_2_5,train_credit_bureau_a_2_6,train_credit_bureau_a_2_7,train_credit_bureau_a_2_8,train_credit_bureau_a_2_9\n",
            "collaterals_typeofguarante_669M\tCollateral type for the active contract.\ttrain_credit_bureau_a_2_0,train_credit_bureau_a_2_1,train_credit_bureau_a_2_10,train_credit_bureau_a_2_2,train_credit_bureau_a_2_3,train_credit_bureau_a_2_4,train_credit_bureau_a_2_5,train_credit_bureau_a_2_6,train_credit_bureau_a_2_7,train_credit_bureau_a_2_8,train_credit_bureau_a_2_9\n",
            "conts_role_79M\tType of contact role of a person.\ttrain_person_2\n",
            "empls_economicalst_849M\tThe economical status of the person (num_group1 - person, num_group2 - employment).\ttrain_person_2\n",
            "empls_employer_name_740M\tEmployer's name (num_group1 - person, num_group2 - employment).\ttrain_person_2\n",
            "subjectroles_name_541M\tName of subject role in closed credit contract (num_group1 - terminated contract, num_group2 - subject roles).\ttrain_credit_bureau_a_2_0,train_credit_bureau_a_2_1,train_credit_bureau_a_2_10,train_credit_bureau_a_2_2,train_credit_bureau_a_2_3,train_credit_bureau_a_2_4,train_credit_bureau_a_2_5,train_credit_bureau_a_2_6,train_credit_bureau_a_2_7,train_credit_bureau_a_2_8,train_credit_bureau_a_2_9\n",
            "subjectroles_name_838M\tName of subject role in active credit contract (num_group1 - existing contract, num_group2 - subject roles).\ttrain_credit_bureau_a_2_0,train_credit_bureau_a_2_1,train_credit_bureau_a_2_10,train_credit_bureau_a_2_2,train_credit_bureau_a_2_3,train_credit_bureau_a_2_4,train_credit_bureau_a_2_5,train_credit_bureau_a_2_6,train_credit_bureau_a_2_7,train_credit_bureau_a_2_8,train_credit_bureau_a_2_9\n",
            "\n",
            "\n",
            "variables ended with A\n",
            "\n",
            "Variables in depth1 tables\n",
            "amount_1115A\tCredit amount of the active contract provided by the credit bureau.\ttrain_credit_bureau_b_1\n",
            "amount_416A\tDeposit amount.\ttrain_deposit_1\n",
            "amount_4527230A\tTax deductions amount tracked by the government registry.\ttrain_tax_registry_a_1\n",
            "amount_4917619A\tTax deductions amount tracked by the government registry.\ttrain_tax_registry_b_1\n",
            "amtdebitincoming_4809443A\tIncoming debit card transactions amount.\ttrain_other_1\n",
            "amtdebitoutgoing_4809440A\tOutgoing debit card transactions amount.\ttrain_other_1\n",
            "amtdepositbalance_4809441A\tDeposit balance of client.\ttrain_other_1\n",
            "amtdepositincoming_4809444A\tAmount of incoming deposits to client's account.\ttrain_other_1\n",
            "amtdepositoutgoing_4809442A\tAmount of outgoing deposits from client's account.\ttrain_other_1\n",
            "annuity_853A\tMonthly annuity for previous applications.\ttrain_applprev_1_0,train_applprev_1_1\n",
            "credacc_actualbalance_314A\tActual balance on credit account.\ttrain_applprev_1_0,train_applprev_1_1\n",
            "credacc_credlmt_575A\tCredit card credit limit provided for previous applications.\ttrain_applprev_1_0,train_applprev_1_1\n",
            "credacc_maxhisbal_375A\tMaximal historical balance of previous credit account\ttrain_applprev_1_0,train_applprev_1_1\n",
            "credacc_minhisbal_90A\tMinimum historical balance of previous credit accounts.\ttrain_applprev_1_0,train_applprev_1_1\n",
            "credamount_590A\tLoan amount or card limit of previous applications.\ttrain_applprev_1_0,train_applprev_1_1\n",
            "credlmt_1052A\tCredit limit of an active loan.\ttrain_credit_bureau_b_1\n",
            "credlmt_228A\tCredit limit for closed loans.\ttrain_credit_bureau_b_1\n",
            "credlmt_230A\tCredit limit of the closed credit contracts from credit bureau.\ttrain_credit_bureau_a_1_0,train_credit_bureau_a_1_1,train_credit_bureau_a_1_2,train_credit_bureau_a_1_3\n",
            "credlmt_3940954A\tCredit limit for active loan.\ttrain_credit_bureau_b_1\n",
            "credlmt_935A\tCredit limit for active loan.\ttrain_credit_bureau_a_1_0,train_credit_bureau_a_1_1,train_credit_bureau_a_1_2,train_credit_bureau_a_1_3\n",
            "currdebt_94A\tPrevious application's current debt.\ttrain_applprev_1_0,train_applprev_1_1\n",
            "debtoutstand_525A\tOutstanding amount of existing contract.\ttrain_credit_bureau_a_1_0,train_credit_bureau_a_1_1,train_credit_bureau_a_1_2,train_credit_bureau_a_1_3\n",
            "debtoverdue_47A\tAmount that is currently past due on a client's existing credit contract.\ttrain_credit_bureau_a_1_0,train_credit_bureau_a_1_1,train_credit_bureau_a_1_2,train_credit_bureau_a_1_3\n",
            "debtpastduevalue_732A\tAmount of unpaid debt for existing contracts.\ttrain_credit_bureau_b_1\n",
            "debtvalue_227A\tOutstanding amount for existing debt contracts.\ttrain_credit_bureau_b_1\n",
            "downpmt_134A\tPrevious application downpayment amount.\ttrain_applprev_1_0,train_applprev_1_1\n",
            "installmentamount_644A\tInstalment amount of a closed and secured credit contract.\ttrain_credit_bureau_b_1\n",
            "installmentamount_833A\tInstalment amount for a secured and active contract in credit bureau.\ttrain_credit_bureau_b_1\n",
            "instlamount_768A\tInstalment amount for the active contract in credit bureau.\ttrain_credit_bureau_a_1_0,train_credit_bureau_a_1_1,train_credit_bureau_a_1_2,train_credit_bureau_a_1_3\n",
            "instlamount_852A\tInstalment amount for closed contract.\ttrain_credit_bureau_a_1_0,train_credit_bureau_a_1_1,train_credit_bureau_a_1_2,train_credit_bureau_a_1_3\n",
            "instlamount_892A\tInstalment amount for active credit contract.\ttrain_credit_bureau_b_1\n",
            "last180dayaveragebalance_704A\tAverage balance on debit card in the last 180 days.\ttrain_debitcard_1\n",
            "last180dayturnover_1134A\tDebit card's turnover within the last 180 days.\ttrain_debitcard_1\n",
            "last30dayturnover_651A\tDebit card turnover for the last 30 days.\ttrain_debitcard_1\n",
            "mainoccupationinc_384A\tAmount of the main income of the client.\ttrain_person_1\n",
            "mainoccupationinc_437A\tClient's main income amount in their previous application.\ttrain_applprev_1_0,train_applprev_1_1\n",
            "maxdebtpduevalodued_3940955A\tDays past due at the time of the maximum debt.\ttrain_credit_bureau_b_1\n",
            "monthlyinstlamount_332A\tMonthly instalment amount for active contract.\ttrain_credit_bureau_a_1_0,train_credit_bureau_a_1_1,train_credit_bureau_a_1_2,train_credit_bureau_a_1_3\n",
            "monthlyinstlamount_674A\tMonthly amount of instalment payment on a closed contract.\ttrain_credit_bureau_a_1_0,train_credit_bureau_a_1_1,train_credit_bureau_a_1_2,train_credit_bureau_a_1_3\n",
            "outstandingamount_354A\tOutstanding amount for closed credit contract in credit bureau.\ttrain_credit_bureau_a_1_0,train_credit_bureau_a_1_1,train_credit_bureau_a_1_2,train_credit_bureau_a_1_3\n",
            "outstandingamount_362A\tActive contract's outstanding amount.\ttrain_credit_bureau_a_1_0,train_credit_bureau_a_1_1,train_credit_bureau_a_1_2,train_credit_bureau_a_1_3\n",
            "outstandingdebt_522A\tAmount of outstanding debt on the client's previous application.\ttrain_applprev_1_0,train_applprev_1_1\n",
            "overdueamount_31A\tPast due amount for a closed contract.\ttrain_credit_bureau_a_1_0,train_credit_bureau_a_1_1,train_credit_bureau_a_1_2,train_credit_bureau_a_1_3\n",
            "overdueamount_659A\tPast due amount for active contract.\ttrain_credit_bureau_a_1_0,train_credit_bureau_a_1_1,train_credit_bureau_a_1_2,train_credit_bureau_a_1_3\n",
            "overdueamountmax_155A\tMaximal past due amount for active contract.\ttrain_credit_bureau_a_1_0,train_credit_bureau_a_1_1,train_credit_bureau_a_1_2,train_credit_bureau_a_1_3\n",
            "overdueamountmax_35A\tMaximal past due amount for a closed contract.\ttrain_credit_bureau_a_1_0,train_credit_bureau_a_1_1,train_credit_bureau_a_1_2,train_credit_bureau_a_1_3\n",
            "overdueamountmax_950A\tMaximal past due amount for active contract.\ttrain_credit_bureau_b_1\n",
            "overdueamountmax2_14A\tMaximal past due amount for an active contract.\ttrain_credit_bureau_a_1_0,train_credit_bureau_a_1_1,train_credit_bureau_a_1_2,train_credit_bureau_a_1_3\n",
            "overdueamountmax2_398A\tMaximal overdue amount for a closed contract.\ttrain_credit_bureau_a_1_0,train_credit_bureau_a_1_1,train_credit_bureau_a_1_2,train_credit_bureau_a_1_3\n",
            "pmtamount_36A\tTax deductions amount for credit bureau payments.\ttrain_tax_registry_c_1\n",
            "residualamount_1093A\tResidual amount of closed guarantee contract.\ttrain_credit_bureau_b_1\n",
            "residualamount_127A\tResidual amount of active guarantee contract.\ttrain_credit_bureau_b_1\n",
            "residualamount_3940956A\tResidual amount for the active contract.\ttrain_credit_bureau_b_1\n",
            "residualamount_488A\tResidual amount of a closed contract.\ttrain_credit_bureau_a_1_0,train_credit_bureau_a_1_1,train_credit_bureau_a_1_2,train_credit_bureau_a_1_3\n",
            "residualamount_856A\tResidual amount for the active contract.\ttrain_credit_bureau_a_1_0,train_credit_bureau_a_1_1,train_credit_bureau_a_1_2,train_credit_bureau_a_1_3\n",
            "revolvingaccount_394A\tRevolving account that was present in the applicant's previous application.\ttrain_applprev_1_0,train_applprev_1_1\n",
            "totalamount_503A\tTotal amount of active secured credit for a client.\ttrain_credit_bureau_b_1\n",
            "totalamount_6A\tTotal amount of closed contracts.\ttrain_credit_bureau_a_1_0,train_credit_bureau_a_1_1,train_credit_bureau_a_1_2,train_credit_bureau_a_1_3\n",
            "totalamount_881A\tTotal amount of secured credit from closed contracts.\ttrain_credit_bureau_b_1\n",
            "totalamount_996A\tTotal amount of active contracts in the credit bureau.\ttrain_credit_bureau_a_1_0,train_credit_bureau_a_1_1,train_credit_bureau_a_1_2,train_credit_bureau_a_1_3\n",
            "totaldebtoverduevalue_178A\tTotal amount of past due debt on active contracts.\ttrain_credit_bureau_a_1_0,train_credit_bureau_a_1_1,train_credit_bureau_a_1_2,train_credit_bureau_a_1_3\n",
            "totaldebtoverduevalue_718A\tTotal overdue debt amount for closed credit contracts.\ttrain_credit_bureau_a_1_0,train_credit_bureau_a_1_1,train_credit_bureau_a_1_2,train_credit_bureau_a_1_3\n",
            "totaloutstanddebtvalue_39A\tTotal outstanding debt for active contracts in the credit bureau.\ttrain_credit_bureau_a_1_0,train_credit_bureau_a_1_1,train_credit_bureau_a_1_2,train_credit_bureau_a_1_3\n",
            "totaloutstanddebtvalue_668A\tTotal outstanding debt for the closed contracts in the credit bureau.\ttrain_credit_bureau_a_1_0,train_credit_bureau_a_1_1,train_credit_bureau_a_1_2,train_credit_bureau_a_1_3\n",
            "\n",
            "\n",
            "variables ended with A\n",
            "\n",
            "Variables in depth2 tables\n",
            "pmts_overdue_1140A\tOverdue payment for an active contract (num_group1 - existing contract, num_group2 - payment).\ttrain_credit_bureau_a_2_0,train_credit_bureau_a_2_1,train_credit_bureau_a_2_10,train_credit_bureau_a_2_2,train_credit_bureau_a_2_3,train_credit_bureau_a_2_4,train_credit_bureau_a_2_5,train_credit_bureau_a_2_6,train_credit_bureau_a_2_7,train_credit_bureau_a_2_8,train_credit_bureau_a_2_9\n",
            "pmts_overdue_1152A\tOverdue payment for a closed contract (num_group1 - terminated contract, num_group2 - payment).\ttrain_credit_bureau_a_2_0,train_credit_bureau_a_2_1,train_credit_bureau_a_2_10,train_credit_bureau_a_2_2,train_credit_bureau_a_2_3,train_credit_bureau_a_2_4,train_credit_bureau_a_2_5,train_credit_bureau_a_2_6,train_credit_bureau_a_2_7,train_credit_bureau_a_2_8,train_credit_bureau_a_2_9\n",
            "pmts_pmtsoverdue_635A\tActive contract that has overdue payments (num_group1 - existing contract, num_group2 - payment).\ttrain_credit_bureau_b_2\n",
            "\n",
            "\n",
            "variables ended with D\n",
            "\n",
            "Variables in depth1 tables\n",
            "approvaldate_319D\tApproval Date of Previous Application\ttrain_applprev_1_0,train_applprev_1_1\n",
            "birth_259D\tDate of birth of the person.\ttrain_person_1\n",
            "birthdate_87D\tBirth date of the person.\ttrain_person_1\n",
            "contractdate_551D\tContract date of the active contract\ttrain_credit_bureau_b_1\n",
            "contractenddate_991D\tEnd date of deposit contract.\ttrain_deposit_1\n",
            "contractmaturitydate_151D\tEnd date of active contract.\ttrain_credit_bureau_b_1\n",
            "creationdate_885D\tDate when previous application was created.\ttrain_applprev_1_0,train_applprev_1_1\n",
            "dateactivated_425D\tContract activation date of the applicant's previous application.\ttrain_applprev_1_0,train_applprev_1_1\n",
            "dateofcredend_289D\tEnd date of an active credit contract.\ttrain_credit_bureau_a_1_0,train_credit_bureau_a_1_1,train_credit_bureau_a_1_2,train_credit_bureau_a_1_3\n",
            "dateofcredend_353D\tEnd date of a closed credit contract.\ttrain_credit_bureau_a_1_0,train_credit_bureau_a_1_1,train_credit_bureau_a_1_2,train_credit_bureau_a_1_3\n",
            "dateofcredstart_181D\tDate when the credit contract was closed.\ttrain_credit_bureau_a_1_0,train_credit_bureau_a_1_1,train_credit_bureau_a_1_2,train_credit_bureau_a_1_3\n",
            "dateofcredstart_739D\tStart date of a closed credit contract.\ttrain_credit_bureau_a_1_0,train_credit_bureau_a_1_1,train_credit_bureau_a_1_2,train_credit_bureau_a_1_3\n",
            "dateofrealrepmt_138D\tDate of credit's closure (contract termination date).\ttrain_credit_bureau_a_1_0,train_credit_bureau_a_1_1,train_credit_bureau_a_1_2,train_credit_bureau_a_1_3\n",
            "deductiondate_4917603D\tTax deduction date.\ttrain_tax_registry_b_1\n",
            "dtlastpmt_581D\tDate of last payment made by the applicant.\ttrain_applprev_1_0,train_applprev_1_1\n",
            "dtlastpmtallstes_3545839D\tDate of the applicant's last payment.\ttrain_applprev_1_0,train_applprev_1_1\n",
            "empl_employedfrom_271D\tStart date of employment.\ttrain_person_1\n",
            "employedfrom_700D\tEmployment start date from the previous application.\ttrain_applprev_1_0,train_applprev_1_1\n",
            "firstnonzeroinstldate_307D\tDate of first instalment in the previous application.\ttrain_applprev_1_0,train_applprev_1_1\n",
            "lastupdate_1112D\tDate of last update for an active contract from credit bureau.\ttrain_credit_bureau_a_1_0,train_credit_bureau_a_1_1,train_credit_bureau_a_1_2,train_credit_bureau_a_1_3\n",
            "lastupdate_260D\tLast update date for the active contracts.\ttrain_credit_bureau_b_1\n",
            "lastupdate_388D\tDate of last update for a closed contract in the credit bureau.\ttrain_credit_bureau_a_1_0,train_credit_bureau_a_1_1,train_credit_bureau_a_1_2,train_credit_bureau_a_1_3\n",
            "numberofoverdueinstlmaxdat_148D\tDate of maximum number of past due instalments for the closed contract.\ttrain_credit_bureau_a_1_0,train_credit_bureau_a_1_1,train_credit_bureau_a_1_2,train_credit_bureau_a_1_3\n",
            "numberofoverdueinstlmaxdat_641D\tDate of maximum number of past due instalments for the active contract.\ttrain_credit_bureau_a_1_0,train_credit_bureau_a_1_1,train_credit_bureau_a_1_2,train_credit_bureau_a_1_3\n",
            "openingdate_313D\tDeposit account opening date.\ttrain_deposit_1\n",
            "openingdate_857D\tDebit card opening date.\ttrain_debitcard_1\n",
            "overdueamountmax2date_1002D\tDate of maximal past due amount for a closed contract\ttrain_credit_bureau_a_1_0,train_credit_bureau_a_1_1,train_credit_bureau_a_1_2,train_credit_bureau_a_1_3\n",
            "overdueamountmax2date_1142D\tDate of maximal past due amount for an active contract.\ttrain_credit_bureau_a_1_0,train_credit_bureau_a_1_1,train_credit_bureau_a_1_2,train_credit_bureau_a_1_3\n",
            "processingdate_168D\tDate when the tax deduction is processed.\ttrain_tax_registry_c_1\n",
            "recorddate_4527225D\tDate of tax deduction record.\ttrain_tax_registry_a_1\n",
            "refreshdate_3813885D\tDate when the credit bureau's public sources have been last updated.\ttrain_credit_bureau_a_1_0,train_credit_bureau_a_1_1,train_credit_bureau_a_1_2,train_credit_bureau_a_1_3\n",
            "\n",
            "\n",
            "variables ended with D\n",
            "\n",
            "Variables in depth2 tables\n",
            "empls_employedfrom_796D\tStart of employment (num_group1 - person, num_group2 - employment).\ttrain_person_2\n",
            "pmts_date_1107D\tPayment date for an active contract according to credit bureau (num_group1 - contract, num_group2 - payment).\ttrain_credit_bureau_b_2\n",
            "\n",
            "\n",
            "variables ended with T\n",
            "\n",
            "Variables in depth1 tables\n",
            "dpdmaxdatemonth_442T\tMax DPD occurrence month for terminated contracts from credit bureau data.\ttrain_credit_bureau_a_1_0,train_credit_bureau_a_1_1,train_credit_bureau_a_1_2,train_credit_bureau_a_1_3\n",
            "dpdmaxdatemonth_804T\tMonth when the maximum Day Past Due (DPD) occurred for active contracts on credit bureau's records.\ttrain_credit_bureau_b_1\n",
            "dpdmaxdatemonth_89T\tMonth when maximum days past due occurred on the active contract with the credit bureau.\ttrain_credit_bureau_a_1_0,train_credit_bureau_a_1_1,train_credit_bureau_a_1_2,train_credit_bureau_a_1_3\n",
            "dpdmaxdateyear_596T\tYear when maximum Days Past Due (DPD) occurred for the active contract.\ttrain_credit_bureau_a_1_0,train_credit_bureau_a_1_1,train_credit_bureau_a_1_2,train_credit_bureau_a_1_3\n",
            "dpdmaxdateyear_742T\tYear of the maximum Days Past Due (DPD) on an active credit contract in the credit bureau.\ttrain_credit_bureau_b_1\n",
            "dpdmaxdateyear_896T\tYear of maximum Days Past Due of closed contract obtained from Credit Bureau.\ttrain_credit_bureau_a_1_0,train_credit_bureau_a_1_1,train_credit_bureau_a_1_2,train_credit_bureau_a_1_3\n",
            "incometype_1044T\tType of income of the person\ttrain_person_1\n",
            "overdueamountmaxdatemonth_284T\tMonth when the maximum past due amount occurred for a closed contract.\ttrain_credit_bureau_a_1_0,train_credit_bureau_a_1_1,train_credit_bureau_a_1_2,train_credit_bureau_a_1_3\n",
            "overdueamountmaxdatemonth_365T\tMonth when maximum past due amount occurred for an active contract.\ttrain_credit_bureau_a_1_0,train_credit_bureau_a_1_1,train_credit_bureau_a_1_2,train_credit_bureau_a_1_3\n",
            "overdueamountmaxdatemonth_494T\tMonth when the maximum past due amount was recorded for an active contract with the credit bureau.\ttrain_credit_bureau_b_1\n",
            "overdueamountmaxdateyear_2T\tYear when the maximum past due amount occurred for active contracts.\ttrain_credit_bureau_a_1_0,train_credit_bureau_a_1_1,train_credit_bureau_a_1_2,train_credit_bureau_a_1_3\n",
            "overdueamountmaxdateyear_432T\tYear when max past due amount occurred for active contract.\ttrain_credit_bureau_b_1\n",
            "overdueamountmaxdateyear_994T\tYear when maximum past due amount occurred for closed contract.\ttrain_credit_bureau_a_1_0,train_credit_bureau_a_1_1,train_credit_bureau_a_1_2,train_credit_bureau_a_1_3\n",
            "relationshiptoclient_415T\tRelationship to the client.\ttrain_person_1\n",
            "relationshiptoclient_642T\tRelationship to the client.\ttrain_person_1\n",
            "\n",
            "\n",
            "variables ended with T\n",
            "\n",
            "Variables in depth2 tables\n",
            "pmts_month_158T\tMonth of payment for a closed contract (num_group1 - existing contract, num_group2 - payment).\ttrain_credit_bureau_a_2_0,train_credit_bureau_a_2_1,train_credit_bureau_a_2_10,train_credit_bureau_a_2_2,train_credit_bureau_a_2_3,train_credit_bureau_a_2_4,train_credit_bureau_a_2_5,train_credit_bureau_a_2_6,train_credit_bureau_a_2_7,train_credit_bureau_a_2_8,train_credit_bureau_a_2_9\n",
            "pmts_month_706T\tMonth of payment for active contract (num_group1 - terminated contract, num_group2 - payment).\ttrain_credit_bureau_a_2_0,train_credit_bureau_a_2_1,train_credit_bureau_a_2_10,train_credit_bureau_a_2_2,train_credit_bureau_a_2_3,train_credit_bureau_a_2_4,train_credit_bureau_a_2_5,train_credit_bureau_a_2_6,train_credit_bureau_a_2_7,train_credit_bureau_a_2_8,train_credit_bureau_a_2_9\n",
            "pmts_year_1139T\tYear of payment for an active contract (num_group1 - existing contract, num_group2 - payment).\ttrain_credit_bureau_a_2_0,train_credit_bureau_a_2_1,train_credit_bureau_a_2_10,train_credit_bureau_a_2_2,train_credit_bureau_a_2_3,train_credit_bureau_a_2_4,train_credit_bureau_a_2_5,train_credit_bureau_a_2_6,train_credit_bureau_a_2_7,train_credit_bureau_a_2_8,train_credit_bureau_a_2_9\n",
            "pmts_year_507T\tPayment year for a closed credit contract (num_group1 - terminated contract, num_group2 - payment).\ttrain_credit_bureau_a_2_0,train_credit_bureau_a_2_1,train_credit_bureau_a_2_10,train_credit_bureau_a_2_2,train_credit_bureau_a_2_3,train_credit_bureau_a_2_4,train_credit_bureau_a_2_5,train_credit_bureau_a_2_6,train_credit_bureau_a_2_7,train_credit_bureau_a_2_8,train_credit_bureau_a_2_9\n",
            "relatedpersons_role_762T\tRelationship type of a client's related person (num_group1 - person, num_group2 - related person).\ttrain_person_2\n",
            "\n",
            "\n",
            "variables ended with L\n",
            "\n",
            "Variables in depth1 tables\n",
            "annualeffectiverate_199L\tInterest rate of the closed contracts.\ttrain_credit_bureau_a_1_0,train_credit_bureau_a_1_1,train_credit_bureau_a_1_2,train_credit_bureau_a_1_3\n",
            "annualeffectiverate_63L\tInterest rate for the active contracts.\ttrain_credit_bureau_a_1_0,train_credit_bureau_a_1_1,train_credit_bureau_a_1_2,train_credit_bureau_a_1_3\n",
            "byoccupationinc_3656910L\tApplicant's income from previous applications.\ttrain_applprev_1_0,train_applprev_1_1\n",
            "childnum_185L\tNumber of children of the applicant.\ttrain_person_1\n",
            "childnum_21L\tNumber of children in the previous application.\ttrain_applprev_1_0,train_applprev_1_1\n",
            "contaddr_matchlist_1032L\tIndicates whether the contact address is found in a code list.\ttrain_person_1\n",
            "contaddr_smempladdr_334L\tIndicates whether the contact address is the same as the employment address.\ttrain_person_1\n",
            "contractsum_5085717L\tSum of other contract values.\ttrain_credit_bureau_a_1_0,train_credit_bureau_a_1_1,train_credit_bureau_a_1_2,train_credit_bureau_a_1_3\n",
            "credacc_status_367L\tAccount status of previous credit applications.\ttrain_applprev_1_0,train_applprev_1_1\n",
            "credacc_transactions_402L\tNumber of transactions made with the previous credit account of the applicant.\ttrain_applprev_1_0,train_applprev_1_1\n",
            "credquantity_1099L\tNumber of credits in credit bureau\ttrain_credit_bureau_b_1\n",
            "credquantity_984L\tNumber of closed credits in credit bureau.\ttrain_credit_bureau_b_1\n",
            "credtype_587L\tCredit type of previous application.\ttrain_applprev_1_0,train_applprev_1_1\n",
            "empl_employedtotal_800L\tEmployment length of a person.\ttrain_person_1\n",
            "empl_industry_691L\tEmployment Industry of the person.\ttrain_person_1\n",
            "familystate_447L\tFamily state of the person.\ttrain_person_1\n",
            "familystate_726L\tFamily State in previous application of applicant.\ttrain_applprev_1_0,train_applprev_1_1\n",
            "gender_992L\tGender of a person.\ttrain_person_1\n",
            "housetype_905L\tHouse type of the person.\ttrain_person_1\n",
            "housingtype_772L\tType of housing of the person.\ttrain_person_1\n",
            "inittransactioncode_279L\tType of the initial transaction made in the previous application of the client.\ttrain_applprev_1_0,train_applprev_1_1\n",
            "interesteffectiverate_369L\tInterest rate on active contract.\ttrain_credit_bureau_b_1\n",
            "interestrate_508L\tInterest rate for a closed contract in the credit bureau.\ttrain_credit_bureau_a_1_0,train_credit_bureau_a_1_1,train_credit_bureau_a_1_2,train_credit_bureau_a_1_3\n",
            "interestrateyearly_538L\tAnnual interest rate for existing contract obtained from credit bureau.\ttrain_credit_bureau_b_1\n",
            "isbidproduct_390L\tFlag for determining if the product is a cross-sell in previous applications.\ttrain_applprev_1_0,train_applprev_1_1\n",
            "isdebitcard_527L\tPrevious application flag indicating if product being applied for is a debit card.\ttrain_applprev_1_0,train_applprev_1_1\n",
            "isreference_387L\tFlag indicating whether the person is a reference contact.\ttrain_person_1\n",
            "maritalst_703L\tMarital status of the client.\ttrain_person_1\n",
            "nominalrate_281L\tInterest rate of the active contract.\ttrain_credit_bureau_a_1_0,train_credit_bureau_a_1_1,train_credit_bureau_a_1_2,train_credit_bureau_a_1_3\n",
            "nominalrate_498L\tInterest rate for closed contract.\ttrain_credit_bureau_a_1_0,train_credit_bureau_a_1_1,train_credit_bureau_a_1_2,train_credit_bureau_a_1_3\n",
            "numberofcontrsvalue_258L\tNumber of active contracts in credit bureau.\ttrain_credit_bureau_a_1_0,train_credit_bureau_a_1_1,train_credit_bureau_a_1_2,train_credit_bureau_a_1_3\n",
            "numberofcontrsvalue_358L\tNumber of closed credit contracts.\ttrain_credit_bureau_a_1_0,train_credit_bureau_a_1_1,train_credit_bureau_a_1_2,train_credit_bureau_a_1_3\n",
            "numberofinstls_229L\tNumber of instalments on closed contract.\ttrain_credit_bureau_a_1_0,train_credit_bureau_a_1_1,train_credit_bureau_a_1_2,train_credit_bureau_a_1_3\n",
            "numberofinstls_320L\tNumber of instalments of the active contract.\ttrain_credit_bureau_a_1_0,train_credit_bureau_a_1_1,train_credit_bureau_a_1_2,train_credit_bureau_a_1_3\n",
            "numberofinstls_810L\tNumber of instalments for the active contract.\ttrain_credit_bureau_b_1\n",
            "numberofoutstandinstls_520L\tNumber of outstanding instalment for closed contract.\ttrain_credit_bureau_a_1_0,train_credit_bureau_a_1_1,train_credit_bureau_a_1_2,train_credit_bureau_a_1_3\n",
            "numberofoutstandinstls_59L\tNumber of outstanding instalments for the active contracts.\ttrain_credit_bureau_a_1_0,train_credit_bureau_a_1_1,train_credit_bureau_a_1_2,train_credit_bureau_a_1_3\n",
            "numberofoverdueinstlmax_1039L\tNumber of outstanding instalments for active contracts.\ttrain_credit_bureau_a_1_0,train_credit_bureau_a_1_1,train_credit_bureau_a_1_2,train_credit_bureau_a_1_3\n",
            "numberofoverdueinstlmax_1151L\tMaximum number of past due installments for a closed contract.\ttrain_credit_bureau_a_1_0,train_credit_bureau_a_1_1,train_credit_bureau_a_1_2,train_credit_bureau_a_1_3\n",
            "numberofoverdueinstls_725L\tMaximum number of past due instalments for an active contract.\ttrain_credit_bureau_a_1_0,train_credit_bureau_a_1_1,train_credit_bureau_a_1_2,train_credit_bureau_a_1_3\n",
            "numberofoverdueinstls_834L\tNumber of past due instalments for a closed contract.\ttrain_credit_bureau_a_1_0,train_credit_bureau_a_1_1,train_credit_bureau_a_1_2,train_credit_bureau_a_1_3\n",
            "periodicityofpmts_1102L\tFrequency of instalments for a closed contract.\ttrain_credit_bureau_a_1_0,train_credit_bureau_a_1_1,train_credit_bureau_a_1_2,train_credit_bureau_a_1_3\n",
            "periodicityofpmts_837L\tFrequency of instalments for an active contract.\ttrain_credit_bureau_a_1_0,train_credit_bureau_a_1_1,train_credit_bureau_a_1_2,train_credit_bureau_a_1_3\n",
            "periodicityofpmts_997L\tFrequency of instalments for active credit contracts.\ttrain_credit_bureau_b_1\n",
            "personindex_1023L\tOrder of the person specified on the application form.\ttrain_person_1\n",
            "persontype_1072L\tPerson type.\ttrain_person_1\n",
            "persontype_792L\tPerson type.\ttrain_person_1\n",
            "pmtnum_8L\tNumber of payments made for the previous application.\ttrain_applprev_1_0,train_applprev_1_1\n",
            "pmtnumpending_403L\tNumber of pending payments for active contract.\ttrain_credit_bureau_b_1\n",
            "prolongationcount_1120L\tCount of prolongations on terminated contract according to credit bureau.\ttrain_credit_bureau_a_1_0,train_credit_bureau_a_1_1,train_credit_bureau_a_1_2,train_credit_bureau_a_1_3\n",
            "prolongationcount_599L\tCount of active contract prolongations.\ttrain_credit_bureau_a_1_0,train_credit_bureau_a_1_1,train_credit_bureau_a_1_2,train_credit_bureau_a_1_3\n",
            "remitter_829L\tFlag indicating whether the client is a remitter.\ttrain_person_1\n",
            "role_1084L\tType of contact role.\ttrain_person_1\n",
            "role_993L\tPerson's role.\ttrain_person_1\n",
            "safeguarantyflag_411L\tFlag indicating if client is using a flexible product with additional safeguard garanty.\ttrain_person_1\n",
            "sex_738L\tGender of the client.\ttrain_person_1\n",
            "status_219L\tPrevious application status.\ttrain_applprev_1_0,train_applprev_1_1\n",
            "tenor_203L\tNumber of instalments in the previous application.\ttrain_applprev_1_0,train_applprev_1_1\n",
            "type_25L\tContact type of a person.\ttrain_person_1\n",
            "\n",
            "\n",
            "variables ended with L\n",
            "\n",
            "Variables in depth2 tables\n",
            "addres_role_871L\tRole of person's address.\ttrain_person_2\n",
            "collater_valueofguarantee_1124L\tValue of collateral for active contract.\ttrain_credit_bureau_a_2_0,train_credit_bureau_a_2_1,train_credit_bureau_a_2_10,train_credit_bureau_a_2_2,train_credit_bureau_a_2_3,train_credit_bureau_a_2_4,train_credit_bureau_a_2_5,train_credit_bureau_a_2_6,train_credit_bureau_a_2_7,train_credit_bureau_a_2_8,train_credit_bureau_a_2_9\n",
            "collater_valueofguarantee_876L\tValue of collateral for closed contract.\ttrain_credit_bureau_a_2_0,train_credit_bureau_a_2_1,train_credit_bureau_a_2_10,train_credit_bureau_a_2_2,train_credit_bureau_a_2_3,train_credit_bureau_a_2_4,train_credit_bureau_a_2_5,train_credit_bureau_a_2_6,train_credit_bureau_a_2_7,train_credit_bureau_a_2_8,train_credit_bureau_a_2_9\n",
            "conts_type_509L\tPerson contact type in previous application.\ttrain_applprev_2\n",
            "credacc_cards_status_52L\tCard status of the previous credit account.\ttrain_applprev_2\n",
            "\n",
            "\n"
          ]
        }
      ]
    },
    {
      "cell_type": "markdown",
      "source": [
        "## Load Tables  \n"
      ],
      "metadata": {
        "id": "WKxT2s05ci-a"
      }
    },
    {
      "cell_type": "code",
      "source": [
        "for key, value in base_store.items():\n",
        "  combinations = list(itertools.product(['train','test'], value))\n",
        "  for pair in combinations:\n",
        "    table_var = '_'.join(pair)\n",
        "    file_path = locals()[pair[0].upper()+'_DIR']+table_var+'*.parquet'\n",
        "    print(file_path)\n",
        "    locals()[table_var] = dd.read_parquet(file_path)"
      ],
      "metadata": {
        "colab": {
          "base_uri": "https://localhost:8080/"
        },
        "id": "ed-5YyfVHInE",
        "outputId": "16291273-8633-4994-e43d-d4d60ef759ba"
      },
      "execution_count": null,
      "outputs": [
        {
          "output_type": "stream",
          "name": "stdout",
          "text": [
            "OriginalData/parquet_files/train/train_base*.parquet\n",
            "OriginalData/parquet_files/test/test_base*.parquet\n",
            "OriginalData/parquet_files/train/train_static_0*.parquet\n",
            "OriginalData/parquet_files/train/train_static_cb_0*.parquet\n",
            "OriginalData/parquet_files/test/test_static_0*.parquet\n",
            "OriginalData/parquet_files/test/test_static_cb_0*.parquet\n",
            "OriginalData/parquet_files/train/train_applprev_1*.parquet\n",
            "OriginalData/parquet_files/train/train_other_1*.parquet\n",
            "OriginalData/parquet_files/train/train_tax_registry_a_1*.parquet\n",
            "OriginalData/parquet_files/train/train_tax_registry_b_1*.parquet\n",
            "OriginalData/parquet_files/train/train_tax_registry_c_1*.parquet\n",
            "OriginalData/parquet_files/train/train_credit_bureau_a_1*.parquet\n",
            "OriginalData/parquet_files/train/train_credit_bureau_b_1*.parquet\n",
            "OriginalData/parquet_files/train/train_deposit_1*.parquet\n",
            "OriginalData/parquet_files/train/train_person_1*.parquet\n",
            "OriginalData/parquet_files/train/train_debitcard_1*.parquet\n",
            "OriginalData/parquet_files/test/test_applprev_1*.parquet\n",
            "OriginalData/parquet_files/test/test_other_1*.parquet\n",
            "OriginalData/parquet_files/test/test_tax_registry_a_1*.parquet\n",
            "OriginalData/parquet_files/test/test_tax_registry_b_1*.parquet\n",
            "OriginalData/parquet_files/test/test_tax_registry_c_1*.parquet\n",
            "OriginalData/parquet_files/test/test_credit_bureau_a_1*.parquet\n",
            "OriginalData/parquet_files/test/test_credit_bureau_b_1*.parquet\n",
            "OriginalData/parquet_files/test/test_deposit_1*.parquet\n",
            "OriginalData/parquet_files/test/test_person_1*.parquet\n",
            "OriginalData/parquet_files/test/test_debitcard_1*.parquet\n",
            "OriginalData/parquet_files/train/train_applprev_2*.parquet\n",
            "OriginalData/parquet_files/train/train_person_2*.parquet\n",
            "OriginalData/parquet_files/train/train_credit_bureau_a_2*.parquet\n",
            "OriginalData/parquet_files/train/train_credit_bureau_b_2*.parquet\n",
            "OriginalData/parquet_files/test/test_applprev_2*.parquet\n",
            "OriginalData/parquet_files/test/test_person_2*.parquet\n",
            "OriginalData/parquet_files/test/test_credit_bureau_a_2*.parquet\n",
            "OriginalData/parquet_files/test/test_credit_bureau_b_2*.parquet\n"
          ]
        }
      ]
    },
    {
      "cell_type": "code",
      "source": [
        "# def transform_tables(df, is_base):\n",
        "#   \"\"\"\n",
        "#   Function to transform a Dask DataFrame.\n",
        "#   :param df: a Dask Dataframe\n",
        "#       is_base<boolean>: is it a base file\n",
        "#   :return: Dask DataFrame\n",
        "#   \"\"\"\n",
        "#   df = dd.read_parquet(path)\n",
        "#   if is_base:\n",
        "#     df['date_decision'] = dd.to_datetime(df['date_decision'], format='%Y/%m/%d')\n",
        "#   else:\n",
        "#     for col in df.columns:\n",
        "#       if col.endswith('M'):\n",
        "#         # transform it to category dtype\n",
        "#         df[col]=df[col].categorize()\n",
        "#       elif col.endswith('D'):\n",
        "#         df[col]=dd.to_datetime(df[col], format='%Y/%m/%d')"
      ],
      "metadata": {
        "id": "Kqp4xSYfHos1"
      },
      "execution_count": null,
      "outputs": []
    },
    {
      "cell_type": "markdown",
      "source": [
        "## Merge"
      ],
      "metadata": {
        "id": "OczFBa4ci5N0"
      }
    },
    {
      "cell_type": "code",
      "source": [
        "def describe_dask(df):\n",
        "  \"\"\"\n",
        "  Function to compute descriptive statistics of a Dask DataFrame.\n",
        "  :param df: Dask DataFrame\n",
        "  :return: Pandas DataFrame with statistics\n",
        "  \"\"\"\n",
        "  # Compute descriptive statistics\n",
        "  desc = df.describe(percentiles=[0.25, 0.5, 0.75]).compute()\n",
        "\n",
        "  # Compute total row count and missing values count\n",
        "  row_count = len(df)\n",
        "  missing = df.isnull().sum().compute()\n",
        "\n",
        "  # Get data types\n",
        "  data_types = df.dtypes\n",
        "\n",
        "  # Creating a summary DataFrame\n",
        "  summary = pd.DataFrame({\n",
        "      'count': row_count,\n",
        "      'missing': missing,\n",
        "      'dtype': data_types,\n",
        "      'min': desc.loc['min'],\n",
        "      '25%': desc.loc['25%'],\n",
        "      '50%': desc.loc['50%'],\n",
        "      '75%': desc.loc['75%'],\n",
        "      'max': desc.loc['max'],\n",
        "      'mean': desc.loc['mean'],\n",
        "      'std': desc.loc['std']\n",
        "  })\n",
        "\n",
        "  return summary.transpose()\n",
        "\n",
        "# Example usage\n",
        "# df = dd.read_csv('your_file.csv') # Replace with your file or DataFrame\n",
        "# summary_df = describe_dask(df)\n",
        "# print(summary_df)"
      ],
      "metadata": {
        "id": "dZTFcC3clPGu"
      },
      "execution_count": null,
      "outputs": []
    },
    {
      "cell_type": "markdown",
      "source": [
        "base+depth0"
      ],
      "metadata": {
        "id": "0NEp3vSWkAen"
      }
    },
    {
      "cell_type": "code",
      "source": [
        "describe_dask(train_base)"
      ],
      "metadata": {
        "colab": {
          "base_uri": "https://localhost:8080/",
          "height": 362
        },
        "id": "gksmXKOKoHwX",
        "outputId": "eb579ed6-e745-4ffb-bda8-488181f2af7b"
      },
      "execution_count": null,
      "outputs": [
        {
          "output_type": "execute_result",
          "data": {
            "text/plain": [
              "                 MONTH   WEEK_NUM         case_id date_decision    target\n",
              "count          1526659    1526659         1526659       1526659   1526659\n",
              "missing              0          0               0             0         0\n",
              "dtype            int64      int64           int64        object     int64\n",
              "min           201901.0        0.0             0.0           NaN       0.0\n",
              "25%           201906.0       23.0        766197.5           NaN       0.0\n",
              "50%           201910.0       40.0       1357358.0           NaN       0.0\n",
              "75%           202001.0       55.0       1739022.5           NaN       0.0\n",
              "max           202010.0       91.0       2703454.0           NaN       1.0\n",
              "mean     201936.287982  40.769036  1286076.571739           NaN  0.031437\n",
              "std          44.735975  23.797981   718946.592285           NaN  0.174496"
            ],
            "text/html": [
              "\n",
              "  <div id=\"df-cd0fd8fc-f7d3-489c-a643-5fae598df979\" class=\"colab-df-container\">\n",
              "    <div>\n",
              "<style scoped>\n",
              "    .dataframe tbody tr th:only-of-type {\n",
              "        vertical-align: middle;\n",
              "    }\n",
              "\n",
              "    .dataframe tbody tr th {\n",
              "        vertical-align: top;\n",
              "    }\n",
              "\n",
              "    .dataframe thead th {\n",
              "        text-align: right;\n",
              "    }\n",
              "</style>\n",
              "<table border=\"1\" class=\"dataframe\">\n",
              "  <thead>\n",
              "    <tr style=\"text-align: right;\">\n",
              "      <th></th>\n",
              "      <th>MONTH</th>\n",
              "      <th>WEEK_NUM</th>\n",
              "      <th>case_id</th>\n",
              "      <th>date_decision</th>\n",
              "      <th>target</th>\n",
              "    </tr>\n",
              "  </thead>\n",
              "  <tbody>\n",
              "    <tr>\n",
              "      <th>count</th>\n",
              "      <td>1526659</td>\n",
              "      <td>1526659</td>\n",
              "      <td>1526659</td>\n",
              "      <td>1526659</td>\n",
              "      <td>1526659</td>\n",
              "    </tr>\n",
              "    <tr>\n",
              "      <th>missing</th>\n",
              "      <td>0</td>\n",
              "      <td>0</td>\n",
              "      <td>0</td>\n",
              "      <td>0</td>\n",
              "      <td>0</td>\n",
              "    </tr>\n",
              "    <tr>\n",
              "      <th>dtype</th>\n",
              "      <td>int64</td>\n",
              "      <td>int64</td>\n",
              "      <td>int64</td>\n",
              "      <td>object</td>\n",
              "      <td>int64</td>\n",
              "    </tr>\n",
              "    <tr>\n",
              "      <th>min</th>\n",
              "      <td>201901.0</td>\n",
              "      <td>0.0</td>\n",
              "      <td>0.0</td>\n",
              "      <td>NaN</td>\n",
              "      <td>0.0</td>\n",
              "    </tr>\n",
              "    <tr>\n",
              "      <th>25%</th>\n",
              "      <td>201906.0</td>\n",
              "      <td>23.0</td>\n",
              "      <td>766197.5</td>\n",
              "      <td>NaN</td>\n",
              "      <td>0.0</td>\n",
              "    </tr>\n",
              "    <tr>\n",
              "      <th>50%</th>\n",
              "      <td>201910.0</td>\n",
              "      <td>40.0</td>\n",
              "      <td>1357358.0</td>\n",
              "      <td>NaN</td>\n",
              "      <td>0.0</td>\n",
              "    </tr>\n",
              "    <tr>\n",
              "      <th>75%</th>\n",
              "      <td>202001.0</td>\n",
              "      <td>55.0</td>\n",
              "      <td>1739022.5</td>\n",
              "      <td>NaN</td>\n",
              "      <td>0.0</td>\n",
              "    </tr>\n",
              "    <tr>\n",
              "      <th>max</th>\n",
              "      <td>202010.0</td>\n",
              "      <td>91.0</td>\n",
              "      <td>2703454.0</td>\n",
              "      <td>NaN</td>\n",
              "      <td>1.0</td>\n",
              "    </tr>\n",
              "    <tr>\n",
              "      <th>mean</th>\n",
              "      <td>201936.287982</td>\n",
              "      <td>40.769036</td>\n",
              "      <td>1286076.571739</td>\n",
              "      <td>NaN</td>\n",
              "      <td>0.031437</td>\n",
              "    </tr>\n",
              "    <tr>\n",
              "      <th>std</th>\n",
              "      <td>44.735975</td>\n",
              "      <td>23.797981</td>\n",
              "      <td>718946.592285</td>\n",
              "      <td>NaN</td>\n",
              "      <td>0.174496</td>\n",
              "    </tr>\n",
              "  </tbody>\n",
              "</table>\n",
              "</div>\n",
              "    <div class=\"colab-df-buttons\">\n",
              "\n",
              "  <div class=\"colab-df-container\">\n",
              "    <button class=\"colab-df-convert\" onclick=\"convertToInteractive('df-cd0fd8fc-f7d3-489c-a643-5fae598df979')\"\n",
              "            title=\"Convert this dataframe to an interactive table.\"\n",
              "            style=\"display:none;\">\n",
              "\n",
              "  <svg xmlns=\"http://www.w3.org/2000/svg\" height=\"24px\" viewBox=\"0 -960 960 960\">\n",
              "    <path d=\"M120-120v-720h720v720H120Zm60-500h600v-160H180v160Zm220 220h160v-160H400v160Zm0 220h160v-160H400v160ZM180-400h160v-160H180v160Zm440 0h160v-160H620v160ZM180-180h160v-160H180v160Zm440 0h160v-160H620v160Z\"/>\n",
              "  </svg>\n",
              "    </button>\n",
              "\n",
              "  <style>\n",
              "    .colab-df-container {\n",
              "      display:flex;\n",
              "      gap: 12px;\n",
              "    }\n",
              "\n",
              "    .colab-df-convert {\n",
              "      background-color: #E8F0FE;\n",
              "      border: none;\n",
              "      border-radius: 50%;\n",
              "      cursor: pointer;\n",
              "      display: none;\n",
              "      fill: #1967D2;\n",
              "      height: 32px;\n",
              "      padding: 0 0 0 0;\n",
              "      width: 32px;\n",
              "    }\n",
              "\n",
              "    .colab-df-convert:hover {\n",
              "      background-color: #E2EBFA;\n",
              "      box-shadow: 0px 1px 2px rgba(60, 64, 67, 0.3), 0px 1px 3px 1px rgba(60, 64, 67, 0.15);\n",
              "      fill: #174EA6;\n",
              "    }\n",
              "\n",
              "    .colab-df-buttons div {\n",
              "      margin-bottom: 4px;\n",
              "    }\n",
              "\n",
              "    [theme=dark] .colab-df-convert {\n",
              "      background-color: #3B4455;\n",
              "      fill: #D2E3FC;\n",
              "    }\n",
              "\n",
              "    [theme=dark] .colab-df-convert:hover {\n",
              "      background-color: #434B5C;\n",
              "      box-shadow: 0px 1px 3px 1px rgba(0, 0, 0, 0.15);\n",
              "      filter: drop-shadow(0px 1px 2px rgba(0, 0, 0, 0.3));\n",
              "      fill: #FFFFFF;\n",
              "    }\n",
              "  </style>\n",
              "\n",
              "    <script>\n",
              "      const buttonEl =\n",
              "        document.querySelector('#df-cd0fd8fc-f7d3-489c-a643-5fae598df979 button.colab-df-convert');\n",
              "      buttonEl.style.display =\n",
              "        google.colab.kernel.accessAllowed ? 'block' : 'none';\n",
              "\n",
              "      async function convertToInteractive(key) {\n",
              "        const element = document.querySelector('#df-cd0fd8fc-f7d3-489c-a643-5fae598df979');\n",
              "        const dataTable =\n",
              "          await google.colab.kernel.invokeFunction('convertToInteractive',\n",
              "                                                    [key], {});\n",
              "        if (!dataTable) return;\n",
              "\n",
              "        const docLinkHtml = 'Like what you see? Visit the ' +\n",
              "          '<a target=\"_blank\" href=https://colab.research.google.com/notebooks/data_table.ipynb>data table notebook</a>'\n",
              "          + ' to learn more about interactive tables.';\n",
              "        element.innerHTML = '';\n",
              "        dataTable['output_type'] = 'display_data';\n",
              "        await google.colab.output.renderOutput(dataTable, element);\n",
              "        const docLink = document.createElement('div');\n",
              "        docLink.innerHTML = docLinkHtml;\n",
              "        element.appendChild(docLink);\n",
              "      }\n",
              "    </script>\n",
              "  </div>\n",
              "\n",
              "\n",
              "<div id=\"df-f1364a36-2ac1-4be0-9d0e-8a9d25f49e40\">\n",
              "  <button class=\"colab-df-quickchart\" onclick=\"quickchart('df-f1364a36-2ac1-4be0-9d0e-8a9d25f49e40')\"\n",
              "            title=\"Suggest charts\"\n",
              "            style=\"display:none;\">\n",
              "\n",
              "<svg xmlns=\"http://www.w3.org/2000/svg\" height=\"24px\"viewBox=\"0 0 24 24\"\n",
              "     width=\"24px\">\n",
              "    <g>\n",
              "        <path d=\"M19 3H5c-1.1 0-2 .9-2 2v14c0 1.1.9 2 2 2h14c1.1 0 2-.9 2-2V5c0-1.1-.9-2-2-2zM9 17H7v-7h2v7zm4 0h-2V7h2v10zm4 0h-2v-4h2v4z\"/>\n",
              "    </g>\n",
              "</svg>\n",
              "  </button>\n",
              "\n",
              "<style>\n",
              "  .colab-df-quickchart {\n",
              "      --bg-color: #E8F0FE;\n",
              "      --fill-color: #1967D2;\n",
              "      --hover-bg-color: #E2EBFA;\n",
              "      --hover-fill-color: #174EA6;\n",
              "      --disabled-fill-color: #AAA;\n",
              "      --disabled-bg-color: #DDD;\n",
              "  }\n",
              "\n",
              "  [theme=dark] .colab-df-quickchart {\n",
              "      --bg-color: #3B4455;\n",
              "      --fill-color: #D2E3FC;\n",
              "      --hover-bg-color: #434B5C;\n",
              "      --hover-fill-color: #FFFFFF;\n",
              "      --disabled-bg-color: #3B4455;\n",
              "      --disabled-fill-color: #666;\n",
              "  }\n",
              "\n",
              "  .colab-df-quickchart {\n",
              "    background-color: var(--bg-color);\n",
              "    border: none;\n",
              "    border-radius: 50%;\n",
              "    cursor: pointer;\n",
              "    display: none;\n",
              "    fill: var(--fill-color);\n",
              "    height: 32px;\n",
              "    padding: 0;\n",
              "    width: 32px;\n",
              "  }\n",
              "\n",
              "  .colab-df-quickchart:hover {\n",
              "    background-color: var(--hover-bg-color);\n",
              "    box-shadow: 0 1px 2px rgba(60, 64, 67, 0.3), 0 1px 3px 1px rgba(60, 64, 67, 0.15);\n",
              "    fill: var(--button-hover-fill-color);\n",
              "  }\n",
              "\n",
              "  .colab-df-quickchart-complete:disabled,\n",
              "  .colab-df-quickchart-complete:disabled:hover {\n",
              "    background-color: var(--disabled-bg-color);\n",
              "    fill: var(--disabled-fill-color);\n",
              "    box-shadow: none;\n",
              "  }\n",
              "\n",
              "  .colab-df-spinner {\n",
              "    border: 2px solid var(--fill-color);\n",
              "    border-color: transparent;\n",
              "    border-bottom-color: var(--fill-color);\n",
              "    animation:\n",
              "      spin 1s steps(1) infinite;\n",
              "  }\n",
              "\n",
              "  @keyframes spin {\n",
              "    0% {\n",
              "      border-color: transparent;\n",
              "      border-bottom-color: var(--fill-color);\n",
              "      border-left-color: var(--fill-color);\n",
              "    }\n",
              "    20% {\n",
              "      border-color: transparent;\n",
              "      border-left-color: var(--fill-color);\n",
              "      border-top-color: var(--fill-color);\n",
              "    }\n",
              "    30% {\n",
              "      border-color: transparent;\n",
              "      border-left-color: var(--fill-color);\n",
              "      border-top-color: var(--fill-color);\n",
              "      border-right-color: var(--fill-color);\n",
              "    }\n",
              "    40% {\n",
              "      border-color: transparent;\n",
              "      border-right-color: var(--fill-color);\n",
              "      border-top-color: var(--fill-color);\n",
              "    }\n",
              "    60% {\n",
              "      border-color: transparent;\n",
              "      border-right-color: var(--fill-color);\n",
              "    }\n",
              "    80% {\n",
              "      border-color: transparent;\n",
              "      border-right-color: var(--fill-color);\n",
              "      border-bottom-color: var(--fill-color);\n",
              "    }\n",
              "    90% {\n",
              "      border-color: transparent;\n",
              "      border-bottom-color: var(--fill-color);\n",
              "    }\n",
              "  }\n",
              "</style>\n",
              "\n",
              "  <script>\n",
              "    async function quickchart(key) {\n",
              "      const quickchartButtonEl =\n",
              "        document.querySelector('#' + key + ' button');\n",
              "      quickchartButtonEl.disabled = true;  // To prevent multiple clicks.\n",
              "      quickchartButtonEl.classList.add('colab-df-spinner');\n",
              "      try {\n",
              "        const charts = await google.colab.kernel.invokeFunction(\n",
              "            'suggestCharts', [key], {});\n",
              "      } catch (error) {\n",
              "        console.error('Error during call to suggestCharts:', error);\n",
              "      }\n",
              "      quickchartButtonEl.classList.remove('colab-df-spinner');\n",
              "      quickchartButtonEl.classList.add('colab-df-quickchart-complete');\n",
              "    }\n",
              "    (() => {\n",
              "      let quickchartButtonEl =\n",
              "        document.querySelector('#df-f1364a36-2ac1-4be0-9d0e-8a9d25f49e40 button');\n",
              "      quickchartButtonEl.style.display =\n",
              "        google.colab.kernel.accessAllowed ? 'block' : 'none';\n",
              "    })();\n",
              "  </script>\n",
              "</div>\n",
              "    </div>\n",
              "  </div>\n"
            ],
            "application/vnd.google.colaboratory.intrinsic+json": {
              "type": "dataframe",
              "summary": "{\n  \"name\": \"describe_dask(train_base)\",\n  \"rows\": 10,\n  \"fields\": [\n    {\n      \"column\": \"MONTH\",\n      \"properties\": {\n        \"dtype\": \"string\",\n        \"num_unique_values\": 10,\n        \"samples\": [\n          201936.28798245057,\n          0,\n          201910.0\n        ],\n        \"semantic_type\": \"\",\n        \"description\": \"\"\n      }\n    },\n    {\n      \"column\": \"WEEK_NUM\",\n      \"properties\": {\n        \"dtype\": \"string\",\n        \"num_unique_values\": 9,\n        \"samples\": [\n          40.76903617638254,\n          0,\n          55.0\n        ],\n        \"semantic_type\": \"\",\n        \"description\": \"\"\n      }\n    },\n    {\n      \"column\": \"case_id\",\n      \"properties\": {\n        \"dtype\": \"string\",\n        \"num_unique_values\": 9,\n        \"samples\": [\n          1286076.571738679,\n          0,\n          1739022.5\n        ],\n        \"semantic_type\": \"\",\n        \"description\": \"\"\n      }\n    },\n    {\n      \"column\": \"date_decision\",\n      \"properties\": {\n        \"dtype\": \"category\",\n        \"num_unique_values\": 3,\n        \"samples\": [\n          1526659,\n          0,\n          \"object\"\n        ],\n        \"semantic_type\": \"\",\n        \"description\": \"\"\n      }\n    },\n    {\n      \"column\": \"target\",\n      \"properties\": {\n        \"dtype\": \"string\",\n        \"num_unique_values\": 6,\n        \"samples\": [\n          1526659,\n          0,\n          0.1744963994279166\n        ],\n        \"semantic_type\": \"\",\n        \"description\": \"\"\n      }\n    }\n  ]\n}"
            }
          },
          "metadata": {},
          "execution_count": 27
        }
      ]
    },
    {
      "cell_type": "markdown",
      "source": [
        "**notice that mean value of target **"
      ],
      "metadata": {
        "id": "RMs02VFncw1c"
      }
    },
    {
      "cell_type": "code",
      "source": [
        "len(train_static_0.columns)"
      ],
      "metadata": {
        "colab": {
          "base_uri": "https://localhost:8080/"
        },
        "id": "9gqE0TdryOhy",
        "outputId": "3c3993e1-917e-49e2-c77d-2a749bee17c4"
      },
      "execution_count": null,
      "outputs": [
        {
          "output_type": "execute_result",
          "data": {
            "text/plain": [
              "168"
            ]
          },
          "metadata": {},
          "execution_count": 28
        }
      ]
    },
    {
      "cell_type": "code",
      "source": [
        "len(train_static_cb_0.columns)"
      ],
      "metadata": {
        "colab": {
          "base_uri": "https://localhost:8080/"
        },
        "id": "ThP_jtTUokNt",
        "outputId": "8e133667-8b3b-4b06-8090-f7a281d742ab"
      },
      "execution_count": null,
      "outputs": [
        {
          "output_type": "execute_result",
          "data": {
            "text/plain": [
              "53"
            ]
          },
          "metadata": {},
          "execution_count": 29
        }
      ]
    },
    {
      "cell_type": "code",
      "source": [
        "train_static_cb_0.case_id.unique().compute()"
      ],
      "metadata": {
        "colab": {
          "base_uri": "https://localhost:8080/"
        },
        "id": "wzWq8vY5qjCC",
        "outputId": "f0f99a80-ae47-4508-b84c-9b7085b24d30"
      },
      "execution_count": null,
      "outputs": [
        {
          "output_type": "execute_result",
          "data": {
            "text/plain": [
              "0              357\n",
              "1              381\n",
              "2              388\n",
              "3              405\n",
              "4              409\n",
              "            ...   \n",
              "1500471    2703450\n",
              "1500472    2703451\n",
              "1500473    2703452\n",
              "1500474    2703453\n",
              "1500475    2703454\n",
              "Name: case_id, Length: 1500476, dtype: int64"
            ]
          },
          "metadata": {},
          "execution_count": 30
        }
      ]
    },
    {
      "cell_type": "code",
      "source": [
        "train_depth0 = train_static_0.merge(train_static_cb_0, on='case_id', how='left')"
      ],
      "metadata": {
        "id": "URYUeCYbfJhg"
      },
      "execution_count": null,
      "outputs": []
    },
    {
      "cell_type": "code",
      "source": [
        "len(train_depth0.case_id)"
      ],
      "metadata": {
        "colab": {
          "base_uri": "https://localhost:8080/"
        },
        "id": "MIgCE3wn0Ivy",
        "outputId": "087d6450-5c60-47e0-9c92-4958ad21c017"
      },
      "execution_count": null,
      "outputs": [
        {
          "output_type": "execute_result",
          "data": {
            "text/plain": [
              "1526659"
            ]
          },
          "metadata": {},
          "execution_count": 32
        }
      ]
    },
    {
      "cell_type": "code",
      "source": [
        "train_base_depth0 = train_base.merge(train_depth0, on='case_id', how='left')"
      ],
      "metadata": {
        "id": "GPAN8QjT14g2"
      },
      "execution_count": null,
      "outputs": []
    },
    {
      "cell_type": "code",
      "source": [
        "len(train_base_depth0.columns)"
      ],
      "metadata": {
        "colab": {
          "base_uri": "https://localhost:8080/"
        },
        "id": "Y3GX6Z5f2H69",
        "outputId": "4f96259d-b470-48f4-fa0a-b810ae1c15d1"
      },
      "execution_count": null,
      "outputs": [
        {
          "output_type": "execute_result",
          "data": {
            "text/plain": [
              "224"
            ]
          },
          "metadata": {},
          "execution_count": 34
        }
      ]
    },
    {
      "cell_type": "markdown",
      "source": [
        "### 处理train_base_depth0里的缺失值"
      ],
      "metadata": {
        "id": "QJdp8FbKUUSK"
      }
    },
    {
      "cell_type": "code",
      "source": [
        "train_depth0_NAs = train_static_cb_0[train_static_cb_0.isna().any(axis=1)]\n",
        "col_contain_NA = train_static_cb_0.isnull().any()"
      ],
      "metadata": {
        "id": "NJkrrbSI3u3I"
      },
      "execution_count": null,
      "outputs": []
    },
    {
      "cell_type": "code",
      "source": [
        "cols_with_missing = ['case_id']+col_contain_NA[col_contain_NA].index.compute().tolist()\n",
        "static_with_missing_cols = train_depth0_NAs[cols_with_missing]"
      ],
      "metadata": {
        "id": "ene_bI7zG_OZ"
      },
      "execution_count": null,
      "outputs": []
    },
    {
      "cell_type": "code",
      "source": [
        "static_with_missing_cols.head()"
      ],
      "metadata": {
        "colab": {
          "base_uri": "https://localhost:8080/",
          "height": 255
        },
        "id": "p9g7hyhyKWyD",
        "outputId": "40dd4069-4e73-46c7-8915-434b84d9f953"
      },
      "execution_count": null,
      "outputs": [
        {
          "output_type": "execute_result",
          "data": {
            "text/plain": [
              "   case_id assignmentdate_238D assignmentdate_4527235D  \\\n",
              "0      357                None                    None   \n",
              "1      381                None                    None   \n",
              "2      388                None                    None   \n",
              "3      405                None                    None   \n",
              "4      409                None                    None   \n",
              "\n",
              "  assignmentdate_4955616D birthdate_574D  contractssum_5085716L  \\\n",
              "0                    None     1988-04-01                    NaN   \n",
              "1                    None     1973-11-01                    NaN   \n",
              "2                    None     1989-04-01                    NaN   \n",
              "3                    None     1974-03-01                    NaN   \n",
              "4                    None     1993-06-01                    NaN   \n",
              "\n",
              "  dateofbirth_337D dateofbirth_342D  days120_123L  days180_256L  ...  \\\n",
              "0             None             None           NaN           NaN  ...   \n",
              "1             None             None           NaN           NaN  ...   \n",
              "2       1989-04-01             None           6.0           8.0  ...   \n",
              "3       1974-03-01             None           0.0           0.0  ...   \n",
              "4       1993-06-01             None           2.0           3.0  ...   \n",
              "\n",
              "   pmtscount_423L  pmtssum_45A  requesttype_4525192L  responsedate_1012D  \\\n",
              "0             6.0    6301.4000                  None          2019-01-25   \n",
              "1             6.0    4019.6000                  None          2019-01-25   \n",
              "2             6.0   14548.0000                  None          2019-01-28   \n",
              "3             6.0   10498.2400                  None          2019-01-21   \n",
              "4             7.0    6344.8804                  None          2019-01-21   \n",
              "\n",
              "   responsedate_4527233D  responsedate_4917613D  riskassesment_302T  \\\n",
              "0                   None                   None                None   \n",
              "1                   None                   None                None   \n",
              "2                   None                   None                None   \n",
              "3                   None                   None                None   \n",
              "4                   None                   None                None   \n",
              "\n",
              "   riskassesment_940T  secondquarter_766L  thirdquarter_1082L  \n",
              "0                 NaN                 NaN                 NaN  \n",
              "1                 NaN                 NaN                 NaN  \n",
              "2                 NaN                 3.0                 5.0  \n",
              "3                 NaN                 2.0                 0.0  \n",
              "4                 NaN                 0.0                 4.0  \n",
              "\n",
              "[5 rows x 48 columns]"
            ],
            "text/html": [
              "\n",
              "  <div id=\"df-cb286696-5a17-44de-a9a2-080f6f8c7090\" class=\"colab-df-container\">\n",
              "    <div>\n",
              "<style scoped>\n",
              "    .dataframe tbody tr th:only-of-type {\n",
              "        vertical-align: middle;\n",
              "    }\n",
              "\n",
              "    .dataframe tbody tr th {\n",
              "        vertical-align: top;\n",
              "    }\n",
              "\n",
              "    .dataframe thead th {\n",
              "        text-align: right;\n",
              "    }\n",
              "</style>\n",
              "<table border=\"1\" class=\"dataframe\">\n",
              "  <thead>\n",
              "    <tr style=\"text-align: right;\">\n",
              "      <th></th>\n",
              "      <th>case_id</th>\n",
              "      <th>assignmentdate_238D</th>\n",
              "      <th>assignmentdate_4527235D</th>\n",
              "      <th>assignmentdate_4955616D</th>\n",
              "      <th>birthdate_574D</th>\n",
              "      <th>contractssum_5085716L</th>\n",
              "      <th>dateofbirth_337D</th>\n",
              "      <th>dateofbirth_342D</th>\n",
              "      <th>days120_123L</th>\n",
              "      <th>days180_256L</th>\n",
              "      <th>...</th>\n",
              "      <th>pmtscount_423L</th>\n",
              "      <th>pmtssum_45A</th>\n",
              "      <th>requesttype_4525192L</th>\n",
              "      <th>responsedate_1012D</th>\n",
              "      <th>responsedate_4527233D</th>\n",
              "      <th>responsedate_4917613D</th>\n",
              "      <th>riskassesment_302T</th>\n",
              "      <th>riskassesment_940T</th>\n",
              "      <th>secondquarter_766L</th>\n",
              "      <th>thirdquarter_1082L</th>\n",
              "    </tr>\n",
              "  </thead>\n",
              "  <tbody>\n",
              "    <tr>\n",
              "      <th>0</th>\n",
              "      <td>357</td>\n",
              "      <td>None</td>\n",
              "      <td>None</td>\n",
              "      <td>None</td>\n",
              "      <td>1988-04-01</td>\n",
              "      <td>NaN</td>\n",
              "      <td>None</td>\n",
              "      <td>None</td>\n",
              "      <td>NaN</td>\n",
              "      <td>NaN</td>\n",
              "      <td>...</td>\n",
              "      <td>6.0</td>\n",
              "      <td>6301.4000</td>\n",
              "      <td>None</td>\n",
              "      <td>2019-01-25</td>\n",
              "      <td>None</td>\n",
              "      <td>None</td>\n",
              "      <td>None</td>\n",
              "      <td>NaN</td>\n",
              "      <td>NaN</td>\n",
              "      <td>NaN</td>\n",
              "    </tr>\n",
              "    <tr>\n",
              "      <th>1</th>\n",
              "      <td>381</td>\n",
              "      <td>None</td>\n",
              "      <td>None</td>\n",
              "      <td>None</td>\n",
              "      <td>1973-11-01</td>\n",
              "      <td>NaN</td>\n",
              "      <td>None</td>\n",
              "      <td>None</td>\n",
              "      <td>NaN</td>\n",
              "      <td>NaN</td>\n",
              "      <td>...</td>\n",
              "      <td>6.0</td>\n",
              "      <td>4019.6000</td>\n",
              "      <td>None</td>\n",
              "      <td>2019-01-25</td>\n",
              "      <td>None</td>\n",
              "      <td>None</td>\n",
              "      <td>None</td>\n",
              "      <td>NaN</td>\n",
              "      <td>NaN</td>\n",
              "      <td>NaN</td>\n",
              "    </tr>\n",
              "    <tr>\n",
              "      <th>2</th>\n",
              "      <td>388</td>\n",
              "      <td>None</td>\n",
              "      <td>None</td>\n",
              "      <td>None</td>\n",
              "      <td>1989-04-01</td>\n",
              "      <td>NaN</td>\n",
              "      <td>1989-04-01</td>\n",
              "      <td>None</td>\n",
              "      <td>6.0</td>\n",
              "      <td>8.0</td>\n",
              "      <td>...</td>\n",
              "      <td>6.0</td>\n",
              "      <td>14548.0000</td>\n",
              "      <td>None</td>\n",
              "      <td>2019-01-28</td>\n",
              "      <td>None</td>\n",
              "      <td>None</td>\n",
              "      <td>None</td>\n",
              "      <td>NaN</td>\n",
              "      <td>3.0</td>\n",
              "      <td>5.0</td>\n",
              "    </tr>\n",
              "    <tr>\n",
              "      <th>3</th>\n",
              "      <td>405</td>\n",
              "      <td>None</td>\n",
              "      <td>None</td>\n",
              "      <td>None</td>\n",
              "      <td>1974-03-01</td>\n",
              "      <td>NaN</td>\n",
              "      <td>1974-03-01</td>\n",
              "      <td>None</td>\n",
              "      <td>0.0</td>\n",
              "      <td>0.0</td>\n",
              "      <td>...</td>\n",
              "      <td>6.0</td>\n",
              "      <td>10498.2400</td>\n",
              "      <td>None</td>\n",
              "      <td>2019-01-21</td>\n",
              "      <td>None</td>\n",
              "      <td>None</td>\n",
              "      <td>None</td>\n",
              "      <td>NaN</td>\n",
              "      <td>2.0</td>\n",
              "      <td>0.0</td>\n",
              "    </tr>\n",
              "    <tr>\n",
              "      <th>4</th>\n",
              "      <td>409</td>\n",
              "      <td>None</td>\n",
              "      <td>None</td>\n",
              "      <td>None</td>\n",
              "      <td>1993-06-01</td>\n",
              "      <td>NaN</td>\n",
              "      <td>1993-06-01</td>\n",
              "      <td>None</td>\n",
              "      <td>2.0</td>\n",
              "      <td>3.0</td>\n",
              "      <td>...</td>\n",
              "      <td>7.0</td>\n",
              "      <td>6344.8804</td>\n",
              "      <td>None</td>\n",
              "      <td>2019-01-21</td>\n",
              "      <td>None</td>\n",
              "      <td>None</td>\n",
              "      <td>None</td>\n",
              "      <td>NaN</td>\n",
              "      <td>0.0</td>\n",
              "      <td>4.0</td>\n",
              "    </tr>\n",
              "  </tbody>\n",
              "</table>\n",
              "<p>5 rows × 48 columns</p>\n",
              "</div>\n",
              "    <div class=\"colab-df-buttons\">\n",
              "\n",
              "  <div class=\"colab-df-container\">\n",
              "    <button class=\"colab-df-convert\" onclick=\"convertToInteractive('df-cb286696-5a17-44de-a9a2-080f6f8c7090')\"\n",
              "            title=\"Convert this dataframe to an interactive table.\"\n",
              "            style=\"display:none;\">\n",
              "\n",
              "  <svg xmlns=\"http://www.w3.org/2000/svg\" height=\"24px\" viewBox=\"0 -960 960 960\">\n",
              "    <path d=\"M120-120v-720h720v720H120Zm60-500h600v-160H180v160Zm220 220h160v-160H400v160Zm0 220h160v-160H400v160ZM180-400h160v-160H180v160Zm440 0h160v-160H620v160ZM180-180h160v-160H180v160Zm440 0h160v-160H620v160Z\"/>\n",
              "  </svg>\n",
              "    </button>\n",
              "\n",
              "  <style>\n",
              "    .colab-df-container {\n",
              "      display:flex;\n",
              "      gap: 12px;\n",
              "    }\n",
              "\n",
              "    .colab-df-convert {\n",
              "      background-color: #E8F0FE;\n",
              "      border: none;\n",
              "      border-radius: 50%;\n",
              "      cursor: pointer;\n",
              "      display: none;\n",
              "      fill: #1967D2;\n",
              "      height: 32px;\n",
              "      padding: 0 0 0 0;\n",
              "      width: 32px;\n",
              "    }\n",
              "\n",
              "    .colab-df-convert:hover {\n",
              "      background-color: #E2EBFA;\n",
              "      box-shadow: 0px 1px 2px rgba(60, 64, 67, 0.3), 0px 1px 3px 1px rgba(60, 64, 67, 0.15);\n",
              "      fill: #174EA6;\n",
              "    }\n",
              "\n",
              "    .colab-df-buttons div {\n",
              "      margin-bottom: 4px;\n",
              "    }\n",
              "\n",
              "    [theme=dark] .colab-df-convert {\n",
              "      background-color: #3B4455;\n",
              "      fill: #D2E3FC;\n",
              "    }\n",
              "\n",
              "    [theme=dark] .colab-df-convert:hover {\n",
              "      background-color: #434B5C;\n",
              "      box-shadow: 0px 1px 3px 1px rgba(0, 0, 0, 0.15);\n",
              "      filter: drop-shadow(0px 1px 2px rgba(0, 0, 0, 0.3));\n",
              "      fill: #FFFFFF;\n",
              "    }\n",
              "  </style>\n",
              "\n",
              "    <script>\n",
              "      const buttonEl =\n",
              "        document.querySelector('#df-cb286696-5a17-44de-a9a2-080f6f8c7090 button.colab-df-convert');\n",
              "      buttonEl.style.display =\n",
              "        google.colab.kernel.accessAllowed ? 'block' : 'none';\n",
              "\n",
              "      async function convertToInteractive(key) {\n",
              "        const element = document.querySelector('#df-cb286696-5a17-44de-a9a2-080f6f8c7090');\n",
              "        const dataTable =\n",
              "          await google.colab.kernel.invokeFunction('convertToInteractive',\n",
              "                                                    [key], {});\n",
              "        if (!dataTable) return;\n",
              "\n",
              "        const docLinkHtml = 'Like what you see? Visit the ' +\n",
              "          '<a target=\"_blank\" href=https://colab.research.google.com/notebooks/data_table.ipynb>data table notebook</a>'\n",
              "          + ' to learn more about interactive tables.';\n",
              "        element.innerHTML = '';\n",
              "        dataTable['output_type'] = 'display_data';\n",
              "        await google.colab.output.renderOutput(dataTable, element);\n",
              "        const docLink = document.createElement('div');\n",
              "        docLink.innerHTML = docLinkHtml;\n",
              "        element.appendChild(docLink);\n",
              "      }\n",
              "    </script>\n",
              "  </div>\n",
              "\n",
              "\n",
              "<div id=\"df-8fac813f-7831-43e0-b1bc-7011219405b6\">\n",
              "  <button class=\"colab-df-quickchart\" onclick=\"quickchart('df-8fac813f-7831-43e0-b1bc-7011219405b6')\"\n",
              "            title=\"Suggest charts\"\n",
              "            style=\"display:none;\">\n",
              "\n",
              "<svg xmlns=\"http://www.w3.org/2000/svg\" height=\"24px\"viewBox=\"0 0 24 24\"\n",
              "     width=\"24px\">\n",
              "    <g>\n",
              "        <path d=\"M19 3H5c-1.1 0-2 .9-2 2v14c0 1.1.9 2 2 2h14c1.1 0 2-.9 2-2V5c0-1.1-.9-2-2-2zM9 17H7v-7h2v7zm4 0h-2V7h2v10zm4 0h-2v-4h2v4z\"/>\n",
              "    </g>\n",
              "</svg>\n",
              "  </button>\n",
              "\n",
              "<style>\n",
              "  .colab-df-quickchart {\n",
              "      --bg-color: #E8F0FE;\n",
              "      --fill-color: #1967D2;\n",
              "      --hover-bg-color: #E2EBFA;\n",
              "      --hover-fill-color: #174EA6;\n",
              "      --disabled-fill-color: #AAA;\n",
              "      --disabled-bg-color: #DDD;\n",
              "  }\n",
              "\n",
              "  [theme=dark] .colab-df-quickchart {\n",
              "      --bg-color: #3B4455;\n",
              "      --fill-color: #D2E3FC;\n",
              "      --hover-bg-color: #434B5C;\n",
              "      --hover-fill-color: #FFFFFF;\n",
              "      --disabled-bg-color: #3B4455;\n",
              "      --disabled-fill-color: #666;\n",
              "  }\n",
              "\n",
              "  .colab-df-quickchart {\n",
              "    background-color: var(--bg-color);\n",
              "    border: none;\n",
              "    border-radius: 50%;\n",
              "    cursor: pointer;\n",
              "    display: none;\n",
              "    fill: var(--fill-color);\n",
              "    height: 32px;\n",
              "    padding: 0;\n",
              "    width: 32px;\n",
              "  }\n",
              "\n",
              "  .colab-df-quickchart:hover {\n",
              "    background-color: var(--hover-bg-color);\n",
              "    box-shadow: 0 1px 2px rgba(60, 64, 67, 0.3), 0 1px 3px 1px rgba(60, 64, 67, 0.15);\n",
              "    fill: var(--button-hover-fill-color);\n",
              "  }\n",
              "\n",
              "  .colab-df-quickchart-complete:disabled,\n",
              "  .colab-df-quickchart-complete:disabled:hover {\n",
              "    background-color: var(--disabled-bg-color);\n",
              "    fill: var(--disabled-fill-color);\n",
              "    box-shadow: none;\n",
              "  }\n",
              "\n",
              "  .colab-df-spinner {\n",
              "    border: 2px solid var(--fill-color);\n",
              "    border-color: transparent;\n",
              "    border-bottom-color: var(--fill-color);\n",
              "    animation:\n",
              "      spin 1s steps(1) infinite;\n",
              "  }\n",
              "\n",
              "  @keyframes spin {\n",
              "    0% {\n",
              "      border-color: transparent;\n",
              "      border-bottom-color: var(--fill-color);\n",
              "      border-left-color: var(--fill-color);\n",
              "    }\n",
              "    20% {\n",
              "      border-color: transparent;\n",
              "      border-left-color: var(--fill-color);\n",
              "      border-top-color: var(--fill-color);\n",
              "    }\n",
              "    30% {\n",
              "      border-color: transparent;\n",
              "      border-left-color: var(--fill-color);\n",
              "      border-top-color: var(--fill-color);\n",
              "      border-right-color: var(--fill-color);\n",
              "    }\n",
              "    40% {\n",
              "      border-color: transparent;\n",
              "      border-right-color: var(--fill-color);\n",
              "      border-top-color: var(--fill-color);\n",
              "    }\n",
              "    60% {\n",
              "      border-color: transparent;\n",
              "      border-right-color: var(--fill-color);\n",
              "    }\n",
              "    80% {\n",
              "      border-color: transparent;\n",
              "      border-right-color: var(--fill-color);\n",
              "      border-bottom-color: var(--fill-color);\n",
              "    }\n",
              "    90% {\n",
              "      border-color: transparent;\n",
              "      border-bottom-color: var(--fill-color);\n",
              "    }\n",
              "  }\n",
              "</style>\n",
              "\n",
              "  <script>\n",
              "    async function quickchart(key) {\n",
              "      const quickchartButtonEl =\n",
              "        document.querySelector('#' + key + ' button');\n",
              "      quickchartButtonEl.disabled = true;  // To prevent multiple clicks.\n",
              "      quickchartButtonEl.classList.add('colab-df-spinner');\n",
              "      try {\n",
              "        const charts = await google.colab.kernel.invokeFunction(\n",
              "            'suggestCharts', [key], {});\n",
              "      } catch (error) {\n",
              "        console.error('Error during call to suggestCharts:', error);\n",
              "      }\n",
              "      quickchartButtonEl.classList.remove('colab-df-spinner');\n",
              "      quickchartButtonEl.classList.add('colab-df-quickchart-complete');\n",
              "    }\n",
              "    (() => {\n",
              "      let quickchartButtonEl =\n",
              "        document.querySelector('#df-8fac813f-7831-43e0-b1bc-7011219405b6 button');\n",
              "      quickchartButtonEl.style.display =\n",
              "        google.colab.kernel.accessAllowed ? 'block' : 'none';\n",
              "    })();\n",
              "  </script>\n",
              "</div>\n",
              "    </div>\n",
              "  </div>\n"
            ],
            "application/vnd.google.colaboratory.intrinsic+json": {
              "type": "dataframe"
            }
          },
          "metadata": {},
          "execution_count": 37
        }
      ]
    },
    {
      "cell_type": "code",
      "source": [
        "for col in cols_with_missing:\n",
        "    tar = feats_description[feats_description['Variable'] == col]\n",
        "\n",
        "    # 确保找到匹配的列\n",
        "    if not tar.empty:\n",
        "        # 如果找到了匹配的行，打印相关信息\n",
        "        print('\\t'.join(tar.iloc[0].astype(str)))\n",
        "    else:\n",
        "        # 如果没有找到匹配的行，打印说明\n",
        "        print(f\"No description found for column: {col}\")"
      ],
      "metadata": {
        "colab": {
          "base_uri": "https://localhost:8080/"
        },
        "id": "03k3tCsuL67o",
        "outputId": "19b3f132-0b7c-45df-ab9e-e3702adce447"
      },
      "execution_count": null,
      "outputs": [
        {
          "output_type": "stream",
          "name": "stdout",
          "text": [
            "No description found for column: case_id\n",
            "assignmentdate_238D\tTax authority data - date of assignment.\tDate\t['train_static_cb_0']\n",
            "assignmentdate_4527235D\tTax authority data - Date of assignment.\tDate\t['train_static_cb_0']\n",
            "assignmentdate_4955616D\tTax authority assignment date.\tDate\t['train_static_cb_0']\n",
            "birthdate_574D\tClient's date of birth (credit bureau data).\tDate\t['train_static_cb_0']\n",
            "contractssum_5085716L\tTotal sum of values of contracts retrieved from external credit bureau.\tFloat64\t['train_static_cb_0']\n",
            "dateofbirth_337D\tClient's date of birth.\tDate\t['train_static_cb_0']\n",
            "dateofbirth_342D\tClient's date of birth.\tDate\t['train_static_cb_0']\n",
            "days120_123L\tNumber of credit bureau queries for the last 120 days.\tFloat64\t['train_static_cb_0']\n",
            "days180_256L\tNumber of credit bureau queries for last 180 days.\tFloat64\t['train_static_cb_0']\n",
            "days30_165L\tNumber of credit bureau queries for the last 30 days.\tFloat64\t['train_static_cb_0']\n",
            "days360_512L\tNumber of Credit Bureau queries for last 360 days.\tFloat64\t['train_static_cb_0']\n",
            "days90_310L\tNumber of credit bureau queries for the last 90 days.\tFloat64\t['train_static_cb_0']\n",
            "firstquarter_103L\tNumber of results obtained from credit bureau in the first quarter.\tFloat64\t['train_static_cb_0']\n",
            "for3years_128L\tNumber of rejected applications in the past 3 years.\tFloat64\t['train_static_cb_0']\n",
            "for3years_504L\tClient's credit history data over the last three years.\tFloat64\t['train_static_cb_0']\n",
            "for3years_584L\tNumber of cancellations in the last 3 years.\tFloat64\t['train_static_cb_0']\n",
            "formonth_118L\tNumber of rejections in a month.\tFloat64\t['train_static_cb_0']\n",
            "formonth_206L\tNumber of cancelations in the previous month.\tFloat64\t['train_static_cb_0']\n",
            "formonth_535L\tCredit history for the last month.\tFloat64\t['train_static_cb_0']\n",
            "forquarter_1017L\tNumber of cancellations recorded in the credit bureau in the last quarter.\tFloat64\t['train_static_cb_0']\n",
            "forquarter_462L\tNumber of credit applications that were rejected in the last quarter.\tFloat64\t['train_static_cb_0']\n",
            "forquarter_634L\tCredit history for the last quarter.\tFloat64\t['train_static_cb_0']\n",
            "fortoday_1092L\tClient's credit history for today.\tFloat64\t['train_static_cb_0']\n",
            "forweek_1077L\tNumber of cancelations in the last week.\tFloat64\t['train_static_cb_0']\n",
            "forweek_528L\tCredit history for the last week.\tFloat64\t['train_static_cb_0']\n",
            "forweek_601L\tNumber of rejected applications in the last week.\tFloat64\t['train_static_cb_0']\n",
            "foryear_618L\tNumber of application rejections in the previous year.\tFloat64\t['train_static_cb_0']\n",
            "foryear_818L\tNumber of cancelations that occurred in last year.\tFloat64\t['train_static_cb_0']\n",
            "foryear_850L\tCredit history for the last year.\tFloat64\t['train_static_cb_0']\n",
            "fourthquarter_440L\tNumber of results in fourth quarter.\tFloat64\t['train_static_cb_0']\n",
            "numberofqueries_373L\tNumber of queries to credit bureau.\tFloat64\t['train_static_cb_0']\n",
            "pmtaverage_3A\tAverage of tax deductions.\tFloat64\t['train_static_cb_0']\n",
            "pmtaverage_4527227A\tAverage of tax deductions.\tFloat64\t['train_static_cb_0']\n",
            "pmtaverage_4955615A\tAverage of tax deductions.\tFloat64\t['train_static_cb_0']\n",
            "pmtcount_4527229L\tNumber of tax deductions.\tFloat64\t['train_static_cb_0']\n",
            "pmtcount_4955617L\tNumber of tax deductions.\tFloat64\t['train_static_cb_0']\n",
            "pmtcount_693L\tNumber of tax deductions.\tFloat64\t['train_static_cb_0']\n",
            "pmtscount_423L\tNumber of tax deduction payments.\tFloat64\t['train_static_cb_0']\n",
            "pmtssum_45A\tSum of tax deductions for the client.\tFloat64\t['train_static_cb_0']\n",
            "requesttype_4525192L\tTax authority request type.\tString\t['train_static_cb_0']\n",
            "responsedate_1012D\tTax authority's response date.\tDate\t['train_static_cb_0']\n",
            "responsedate_4527233D\tTax authority's response date.\tDate\t['train_static_cb_0']\n",
            "responsedate_4917613D\tTax authority's response date.\tDate\t['train_static_cb_0']\n",
            "riskassesment_302T\tEstimated probability that the client will default on their credit obligation within the next year.\tString\t['train_static_cb_0']\n",
            "riskassesment_940T\tEstimate of client's creditworthiness.\tFloat64\t['train_static_cb_0']\n",
            "secondquarter_766L\tNumber of results in second quarter.\tFloat64\t['train_static_cb_0']\n",
            "thirdquarter_1082L\tNumber of results in third quarter.\tFloat64\t['train_static_cb_0']\n"
          ]
        }
      ]
    },
    {
      "cell_type": "markdown",
      "source": [
        "To save memory:  \n",
        "- categorize variables\n",
        "- use float32"
      ],
      "metadata": {
        "id": "XwCKMigPVL2Z"
      }
    },
    {
      "cell_type": "code",
      "source": [
        "\n",
        "for col in train_base_depth0.columns:\n",
        "  if col.endswith('M'):\n",
        "    train_base_depth0[col] = train_base_depth0[col].astype('category')\n",
        "  elif train_base_depth0[col].dtype == 'float64':\n",
        "    train_base_depth0[col] = train_base_depth0[col].astype('float32')"
      ],
      "metadata": {
        "id": "rwsnLFCxVmD2"
      },
      "execution_count": null,
      "outputs": []
    },
    {
      "cell_type": "markdown",
      "source": [
        "To get feature importance"
      ],
      "metadata": {
        "id": "W4GPijawaTRx"
      }
    },
    {
      "cell_type": "code",
      "source": [
        "# !pip uninstall dask_xgboost"
      ],
      "metadata": {
        "colab": {
          "base_uri": "https://localhost:8080/"
        },
        "id": "SNwDDcZ5m0ax",
        "outputId": "d6a4296b-be8b-461f-de9b-84817ef1d18f"
      },
      "execution_count": null,
      "outputs": [
        {
          "output_type": "stream",
          "name": "stdout",
          "text": [
            "Found existing installation: dask-xgboost 0.2.0\n",
            "Uninstalling dask-xgboost-0.2.0:\n",
            "  Would remove:\n",
            "    /usr/local/lib/python3.10/dist-packages/dask_xgboost-0.2.0.dist-info/*\n",
            "    /usr/local/lib/python3.10/dist-packages/dask_xgboost/*\n",
            "Proceed (Y/n)? Y\n",
            "  Successfully uninstalled dask-xgboost-0.2.0\n"
          ]
        }
      ]
    },
    {
      "cell_type": "code",
      "source": [
        "# !pip install --upgrade xgboost"
      ],
      "metadata": {
        "colab": {
          "base_uri": "https://localhost:8080/"
        },
        "id": "6GWt_lH7pCch",
        "outputId": "55b61128-8c16-4916-d15b-5a550e1a332b"
      },
      "execution_count": null,
      "outputs": [
        {
          "output_type": "stream",
          "name": "stdout",
          "text": [
            "Requirement already satisfied: xgboost in /usr/local/lib/python3.10/dist-packages (2.0.3)\n",
            "Requirement already satisfied: numpy in /usr/local/lib/python3.10/dist-packages (from xgboost) (1.25.2)\n",
            "Requirement already satisfied: scipy in /usr/local/lib/python3.10/dist-packages (from xgboost) (1.11.4)\n"
          ]
        }
      ]
    },
    {
      "cell_type": "code",
      "source": [
        "import xgboost\n",
        "print(xgboost.__version__)"
      ],
      "metadata": {
        "colab": {
          "base_uri": "https://localhost:8080/"
        },
        "id": "ced-F6Ghoxng",
        "outputId": "17d571b8-f8df-486c-c677-08a880bba4ff"
      },
      "execution_count": null,
      "outputs": [
        {
          "output_type": "stream",
          "name": "stdout",
          "text": [
            "2.0.3\n"
          ]
        }
      ]
    },
    {
      "cell_type": "markdown",
      "source": [
        "**确定更新到了1.0版本以上**  \n",
        "如果是在colab里请更新后重新启动运行时"
      ],
      "metadata": {
        "id": "kij06gaFqAp1"
      }
    },
    {
      "cell_type": "code",
      "source": [
        "from dask.distributed import Client\n",
        "import dask.dataframe as dd\n",
        "import xgboost as xgb\n",
        "\n",
        "client = Client()\n",
        "\n",
        "X = train_base_depth0.drop('target', axis=1)\n",
        "y = train_base_depth0['target']\n",
        "\n",
        "dtrain = xgb.dask.DaskDMatrix(client, X, y)\n",
        "\n",
        "params = {\n",
        "    'objective': 'binary:logistic',\n",
        "    'eval_metric': 'logloss'\n",
        "}\n",
        "\n",
        "output = xgb.dask.train(client, params, dtrain, num_boost_round=10)\n",
        "\n",
        "bst = output['booster']\n",
        "\n",
        "importance = bst.get_score(importance_type='weight')\n",
        "\n",
        "for feature, score in importance.items():\n",
        "    print(f'Feature: {feature}, Score: {score}')\n"
      ],
      "metadata": {
        "colab": {
          "base_uri": "https://localhost:8080/",
          "height": 1000
        },
        "id": "mhShd3y9Un3C",
        "outputId": "17460320-8179-4d25-8cea-dcf6f1aa1d01"
      },
      "execution_count": null,
      "outputs": [
        {
          "output_type": "stream",
          "name": "stderr",
          "text": [
            "INFO:distributed.http.proxy:To route to workers diagnostics web server please install jupyter-server-proxy: python -m pip install jupyter-server-proxy\n",
            "INFO:distributed.scheduler:State start\n",
            "INFO:distributed.diskutils:Found stale lock file and directory '/tmp/dask-scratch-space/scheduler-2vg666up', purging\n",
            "INFO:distributed.diskutils:Found stale lock file and directory '/tmp/dask-scratch-space/scheduler-2ae34xj8', purging\n",
            "INFO:distributed.diskutils:Found stale lock file and directory '/tmp/dask-scratch-space/scheduler-96uitlzk', purging\n",
            "INFO:distributed.diskutils:Found stale lock file and directory '/tmp/dask-scratch-space/scheduler-r_zahs_3', purging\n",
            "INFO:distributed.diskutils:Found stale lock file and directory '/tmp/dask-scratch-space/scheduler-wiqq0bbh', purging\n",
            "INFO:distributed.scheduler:  Scheduler at:     tcp://127.0.0.1:42815\n",
            "INFO:distributed.scheduler:  dashboard at:  http://127.0.0.1:8787/status\n",
            "INFO:distributed.nanny:        Start Nanny at: 'tcp://127.0.0.1:39375'\n",
            "INFO:distributed.nanny:        Start Nanny at: 'tcp://127.0.0.1:35063'\n",
            "INFO:distributed.scheduler:Register worker <WorkerState 'tcp://127.0.0.1:39371', name: 0, status: init, memory: 0, processing: 0>\n",
            "INFO:distributed.scheduler:Starting worker compute stream, tcp://127.0.0.1:39371\n",
            "INFO:distributed.core:Starting established connection to tcp://127.0.0.1:38962\n",
            "INFO:distributed.scheduler:Register worker <WorkerState 'tcp://127.0.0.1:41913', name: 1, status: init, memory: 0, processing: 0>\n",
            "INFO:distributed.scheduler:Starting worker compute stream, tcp://127.0.0.1:41913\n",
            "INFO:distributed.core:Starting established connection to tcp://127.0.0.1:38964\n",
            "INFO:distributed.scheduler:Receive client connection: Client-9177abea-ebb9-11ee-8bba-0242ac1c000c\n",
            "INFO:distributed.core:Starting established connection to tcp://127.0.0.1:38978\n",
            "WARNING:distributed.nanny.memory:Worker tcp://127.0.0.1:39371 (pid=121226) exceeded 95% memory budget. Restarting...\n",
            "INFO:distributed.core:Connection to tcp://127.0.0.1:38962 has been closed.\n",
            "INFO:distributed.scheduler:Remove worker <WorkerState 'tcp://127.0.0.1:39371', name: 0, status: paused, memory: 0, processing: 1> (stimulus_id='handle-worker-cleanup-1711489316.062742')\n",
            "INFO:distributed.nanny:Worker process 121226 was killed by signal 15\n",
            "WARNING:distributed.nanny:Restarting worker\n",
            "INFO:distributed.scheduler:Register worker <WorkerState 'tcp://127.0.0.1:33057', name: 0, status: init, memory: 0, processing: 0>\n",
            "INFO:distributed.scheduler:Starting worker compute stream, tcp://127.0.0.1:33057\n",
            "INFO:distributed.core:Starting established connection to tcp://127.0.0.1:45236\n",
            "WARNING:distributed.nanny.memory:Worker tcp://127.0.0.1:33057 (pid=121417) exceeded 95% memory budget. Restarting...\n",
            "INFO:distributed.nanny:Worker process 121417 was killed by signal 15\n",
            "INFO:distributed.core:Connection to tcp://127.0.0.1:45236 has been closed.\n",
            "INFO:distributed.scheduler:Remove worker <WorkerState 'tcp://127.0.0.1:33057', name: 0, status: paused, memory: 0, processing: 1> (stimulus_id='handle-worker-cleanup-1711489344.1015651')\n",
            "WARNING:distributed.nanny:Restarting worker\n",
            "INFO:distributed.scheduler:Register worker <WorkerState 'tcp://127.0.0.1:46651', name: 0, status: init, memory: 0, processing: 0>\n",
            "INFO:distributed.scheduler:Starting worker compute stream, tcp://127.0.0.1:46651\n",
            "INFO:distributed.core:Starting established connection to tcp://127.0.0.1:48224\n",
            "WARNING:distributed.nanny.memory:Worker tcp://127.0.0.1:41913 (pid=121228) exceeded 95% memory budget. Restarting...\n",
            "INFO:distributed.nanny:Worker process 121228 was killed by signal 15\n",
            "INFO:distributed.core:Connection to tcp://127.0.0.1:38964 has been closed.\n",
            "INFO:distributed.scheduler:Remove worker <WorkerState 'tcp://127.0.0.1:41913', name: 1, status: paused, memory: 4, processing: 1> (stimulus_id='handle-worker-cleanup-1711489365.68556')\n",
            "WARNING:distributed.nanny:Restarting worker\n",
            "INFO:distributed.scheduler:Register worker <WorkerState 'tcp://127.0.0.1:33465', name: 1, status: init, memory: 0, processing: 0>\n",
            "INFO:distributed.scheduler:Starting worker compute stream, tcp://127.0.0.1:33465\n",
            "INFO:distributed.core:Starting established connection to tcp://127.0.0.1:40998\n",
            "WARNING:distributed.nanny.memory:Worker tcp://127.0.0.1:46651 (pid=121542) exceeded 95% memory budget. Restarting...\n",
            "INFO:distributed.nanny:Worker process 121542 was killed by signal 15\n",
            "INFO:distributed.core:Connection to tcp://127.0.0.1:48224 has been closed.\n",
            "INFO:distributed.scheduler:Remove worker <WorkerState 'tcp://127.0.0.1:46651', name: 0, status: paused, memory: 2, processing: 2> (stimulus_id='handle-worker-cleanup-1711489402.1438158')\n",
            "INFO:distributed.scheduler:Task ('assign-435cf4791fdfc861f6e1ca26efa5abb7', 0) marked as failed because 4 workers died while trying to run it\n",
            "WARNING:distributed.nanny:Restarting worker\n"
          ]
        },
        {
          "output_type": "error",
          "ename": "AssertionError",
          "evalue": "error",
          "traceback": [
            "\u001b[0;31m---------------------------------------------------------------------------\u001b[0m",
            "\u001b[0;31mAssertionError\u001b[0m                            Traceback (most recent call last)",
            "\u001b[0;32m<ipython-input-41-cce7166ea9b8>\u001b[0m in \u001b[0;36m<cell line: 10>\u001b[0;34m()\u001b[0m\n\u001b[1;32m      8\u001b[0m \u001b[0my\u001b[0m \u001b[0;34m=\u001b[0m \u001b[0mtrain_base_depth0\u001b[0m\u001b[0;34m[\u001b[0m\u001b[0;34m'target'\u001b[0m\u001b[0;34m]\u001b[0m\u001b[0;34m\u001b[0m\u001b[0;34m\u001b[0m\u001b[0m\n\u001b[1;32m      9\u001b[0m \u001b[0;34m\u001b[0m\u001b[0m\n\u001b[0;32m---> 10\u001b[0;31m \u001b[0mdtrain\u001b[0m \u001b[0;34m=\u001b[0m \u001b[0mxgb\u001b[0m\u001b[0;34m.\u001b[0m\u001b[0mdask\u001b[0m\u001b[0;34m.\u001b[0m\u001b[0mDaskDMatrix\u001b[0m\u001b[0;34m(\u001b[0m\u001b[0mclient\u001b[0m\u001b[0;34m,\u001b[0m \u001b[0mX\u001b[0m\u001b[0;34m,\u001b[0m \u001b[0my\u001b[0m\u001b[0;34m)\u001b[0m\u001b[0;34m\u001b[0m\u001b[0;34m\u001b[0m\u001b[0m\n\u001b[0m\u001b[1;32m     11\u001b[0m \u001b[0;34m\u001b[0m\u001b[0m\n\u001b[1;32m     12\u001b[0m params = {\n",
            "\u001b[0;32m/usr/local/lib/python3.10/dist-packages/xgboost/core.py\u001b[0m in \u001b[0;36minner_f\u001b[0;34m(*args, **kwargs)\u001b[0m\n\u001b[1;32m    728\u001b[0m             \u001b[0;32mfor\u001b[0m \u001b[0mk\u001b[0m\u001b[0;34m,\u001b[0m \u001b[0marg\u001b[0m \u001b[0;32min\u001b[0m \u001b[0mzip\u001b[0m\u001b[0;34m(\u001b[0m\u001b[0msig\u001b[0m\u001b[0;34m.\u001b[0m\u001b[0mparameters\u001b[0m\u001b[0;34m,\u001b[0m \u001b[0margs\u001b[0m\u001b[0;34m)\u001b[0m\u001b[0;34m:\u001b[0m\u001b[0;34m\u001b[0m\u001b[0;34m\u001b[0m\u001b[0m\n\u001b[1;32m    729\u001b[0m                 \u001b[0mkwargs\u001b[0m\u001b[0;34m[\u001b[0m\u001b[0mk\u001b[0m\u001b[0;34m]\u001b[0m \u001b[0;34m=\u001b[0m \u001b[0marg\u001b[0m\u001b[0;34m\u001b[0m\u001b[0;34m\u001b[0m\u001b[0m\n\u001b[0;32m--> 730\u001b[0;31m             \u001b[0;32mreturn\u001b[0m \u001b[0mfunc\u001b[0m\u001b[0;34m(\u001b[0m\u001b[0;34m**\u001b[0m\u001b[0mkwargs\u001b[0m\u001b[0;34m)\u001b[0m\u001b[0;34m\u001b[0m\u001b[0;34m\u001b[0m\u001b[0m\n\u001b[0m\u001b[1;32m    731\u001b[0m \u001b[0;34m\u001b[0m\u001b[0m\n\u001b[1;32m    732\u001b[0m         \u001b[0;32mreturn\u001b[0m \u001b[0minner_f\u001b[0m\u001b[0;34m\u001b[0m\u001b[0;34m\u001b[0m\u001b[0m\n",
            "\u001b[0;32m/usr/local/lib/python3.10/dist-packages/xgboost/dask.py\u001b[0m in \u001b[0;36m__init__\u001b[0;34m(self, client, data, label, weight, base_margin, missing, silent, feature_names, feature_types, group, qid, label_lower_bound, label_upper_bound, feature_weights, enable_categorical)\u001b[0m\n\u001b[1;32m    330\u001b[0m         \u001b[0mself\u001b[0m\u001b[0;34m.\u001b[0m\u001b[0mis_quantile\u001b[0m\u001b[0;34m:\u001b[0m \u001b[0mbool\u001b[0m \u001b[0;34m=\u001b[0m \u001b[0;32mFalse\u001b[0m\u001b[0;34m\u001b[0m\u001b[0;34m\u001b[0m\u001b[0m\n\u001b[1;32m    331\u001b[0m \u001b[0;34m\u001b[0m\u001b[0m\n\u001b[0;32m--> 332\u001b[0;31m         self._init = client.sync(\n\u001b[0m\u001b[1;32m    333\u001b[0m             \u001b[0mself\u001b[0m\u001b[0;34m.\u001b[0m\u001b[0m_map_local_data\u001b[0m\u001b[0;34m,\u001b[0m\u001b[0;34m\u001b[0m\u001b[0;34m\u001b[0m\u001b[0m\n\u001b[1;32m    334\u001b[0m             \u001b[0mclient\u001b[0m\u001b[0;34m,\u001b[0m\u001b[0;34m\u001b[0m\u001b[0;34m\u001b[0m\u001b[0m\n",
            "\u001b[0;32m/usr/local/lib/python3.10/dist-packages/distributed/utils.py\u001b[0m in \u001b[0;36msync\u001b[0;34m(self, func, asynchronous, callback_timeout, *args, **kwargs)\u001b[0m\n\u001b[1;32m    357\u001b[0m             \u001b[0;32mreturn\u001b[0m \u001b[0mfuture\u001b[0m\u001b[0;34m\u001b[0m\u001b[0;34m\u001b[0m\u001b[0m\n\u001b[1;32m    358\u001b[0m         \u001b[0;32melse\u001b[0m\u001b[0;34m:\u001b[0m\u001b[0;34m\u001b[0m\u001b[0;34m\u001b[0m\u001b[0m\n\u001b[0;32m--> 359\u001b[0;31m             return sync(\n\u001b[0m\u001b[1;32m    360\u001b[0m                 \u001b[0mself\u001b[0m\u001b[0;34m.\u001b[0m\u001b[0mloop\u001b[0m\u001b[0;34m,\u001b[0m \u001b[0mfunc\u001b[0m\u001b[0;34m,\u001b[0m \u001b[0;34m*\u001b[0m\u001b[0margs\u001b[0m\u001b[0;34m,\u001b[0m \u001b[0mcallback_timeout\u001b[0m\u001b[0;34m=\u001b[0m\u001b[0mcallback_timeout\u001b[0m\u001b[0;34m,\u001b[0m \u001b[0;34m**\u001b[0m\u001b[0mkwargs\u001b[0m\u001b[0;34m\u001b[0m\u001b[0;34m\u001b[0m\u001b[0m\n\u001b[1;32m    361\u001b[0m             )\n",
            "\u001b[0;32m/usr/local/lib/python3.10/dist-packages/distributed/utils.py\u001b[0m in \u001b[0;36msync\u001b[0;34m(loop, func, callback_timeout, *args, **kwargs)\u001b[0m\n\u001b[1;32m    424\u001b[0m     \u001b[0;32mif\u001b[0m \u001b[0merror\u001b[0m\u001b[0;34m:\u001b[0m\u001b[0;34m\u001b[0m\u001b[0;34m\u001b[0m\u001b[0m\n\u001b[1;32m    425\u001b[0m         \u001b[0mtyp\u001b[0m\u001b[0;34m,\u001b[0m \u001b[0mexc\u001b[0m\u001b[0;34m,\u001b[0m \u001b[0mtb\u001b[0m \u001b[0;34m=\u001b[0m \u001b[0merror\u001b[0m\u001b[0;34m\u001b[0m\u001b[0;34m\u001b[0m\u001b[0m\n\u001b[0;32m--> 426\u001b[0;31m         \u001b[0;32mraise\u001b[0m \u001b[0mexc\u001b[0m\u001b[0;34m.\u001b[0m\u001b[0mwith_traceback\u001b[0m\u001b[0;34m(\u001b[0m\u001b[0mtb\u001b[0m\u001b[0;34m)\u001b[0m\u001b[0;34m\u001b[0m\u001b[0;34m\u001b[0m\u001b[0m\n\u001b[0m\u001b[1;32m    427\u001b[0m     \u001b[0;32melse\u001b[0m\u001b[0;34m:\u001b[0m\u001b[0;34m\u001b[0m\u001b[0;34m\u001b[0m\u001b[0m\n\u001b[1;32m    428\u001b[0m         \u001b[0;32mreturn\u001b[0m \u001b[0mresult\u001b[0m\u001b[0;34m\u001b[0m\u001b[0;34m\u001b[0m\u001b[0m\n",
            "\u001b[0;32m/usr/local/lib/python3.10/dist-packages/distributed/utils.py\u001b[0m in \u001b[0;36mf\u001b[0;34m()\u001b[0m\n\u001b[1;32m    397\u001b[0m                 \u001b[0mfuture\u001b[0m \u001b[0;34m=\u001b[0m \u001b[0mwait_for\u001b[0m\u001b[0;34m(\u001b[0m\u001b[0mfuture\u001b[0m\u001b[0;34m,\u001b[0m \u001b[0mcallback_timeout\u001b[0m\u001b[0;34m)\u001b[0m\u001b[0;34m\u001b[0m\u001b[0;34m\u001b[0m\u001b[0m\n\u001b[1;32m    398\u001b[0m             \u001b[0mfuture\u001b[0m \u001b[0;34m=\u001b[0m \u001b[0masyncio\u001b[0m\u001b[0;34m.\u001b[0m\u001b[0mensure_future\u001b[0m\u001b[0;34m(\u001b[0m\u001b[0mfuture\u001b[0m\u001b[0;34m)\u001b[0m\u001b[0;34m\u001b[0m\u001b[0;34m\u001b[0m\u001b[0m\n\u001b[0;32m--> 399\u001b[0;31m             \u001b[0mresult\u001b[0m \u001b[0;34m=\u001b[0m \u001b[0;32myield\u001b[0m \u001b[0mfuture\u001b[0m\u001b[0;34m\u001b[0m\u001b[0;34m\u001b[0m\u001b[0m\n\u001b[0m\u001b[1;32m    400\u001b[0m         \u001b[0;32mexcept\u001b[0m \u001b[0mException\u001b[0m\u001b[0;34m:\u001b[0m\u001b[0;34m\u001b[0m\u001b[0;34m\u001b[0m\u001b[0m\n\u001b[1;32m    401\u001b[0m             \u001b[0merror\u001b[0m \u001b[0;34m=\u001b[0m \u001b[0msys\u001b[0m\u001b[0;34m.\u001b[0m\u001b[0mexc_info\u001b[0m\u001b[0;34m(\u001b[0m\u001b[0;34m)\u001b[0m\u001b[0;34m\u001b[0m\u001b[0;34m\u001b[0m\u001b[0m\n",
            "\u001b[0;32m/usr/local/lib/python3.10/dist-packages/tornado/gen.py\u001b[0m in \u001b[0;36mrun\u001b[0;34m(self)\u001b[0m\n\u001b[1;32m    765\u001b[0m                 \u001b[0;32mtry\u001b[0m\u001b[0;34m:\u001b[0m\u001b[0;34m\u001b[0m\u001b[0;34m\u001b[0m\u001b[0m\n\u001b[1;32m    766\u001b[0m                     \u001b[0;32mtry\u001b[0m\u001b[0;34m:\u001b[0m\u001b[0;34m\u001b[0m\u001b[0;34m\u001b[0m\u001b[0m\n\u001b[0;32m--> 767\u001b[0;31m                         \u001b[0mvalue\u001b[0m \u001b[0;34m=\u001b[0m \u001b[0mfuture\u001b[0m\u001b[0;34m.\u001b[0m\u001b[0mresult\u001b[0m\u001b[0;34m(\u001b[0m\u001b[0;34m)\u001b[0m\u001b[0;34m\u001b[0m\u001b[0;34m\u001b[0m\u001b[0m\n\u001b[0m\u001b[1;32m    768\u001b[0m                     \u001b[0;32mexcept\u001b[0m \u001b[0mException\u001b[0m \u001b[0;32mas\u001b[0m \u001b[0me\u001b[0m\u001b[0;34m:\u001b[0m\u001b[0;34m\u001b[0m\u001b[0;34m\u001b[0m\u001b[0m\n\u001b[1;32m    769\u001b[0m                         \u001b[0;31m# Save the exception for later. It's important that\u001b[0m\u001b[0;34m\u001b[0m\u001b[0;34m\u001b[0m\u001b[0m\n",
            "\u001b[0;32m/usr/local/lib/python3.10/dist-packages/xgboost/dask.py\u001b[0m in \u001b[0;36m_map_local_data\u001b[0;34m(self, client, data, label, weights, base_margin, qid, feature_weights, label_lower_bound, label_upper_bound)\u001b[0m\n\u001b[1;32m    450\u001b[0m         \u001b[0;32mfor\u001b[0m \u001b[0mpart\u001b[0m \u001b[0;32min\u001b[0m \u001b[0mfut_parts\u001b[0m\u001b[0;34m:\u001b[0m\u001b[0;34m\u001b[0m\u001b[0;34m\u001b[0m\u001b[0m\n\u001b[1;32m    451\u001b[0m             \u001b[0;31m# Each part is [x0, y0, w0, ...] in future form.\u001b[0m\u001b[0;34m\u001b[0m\u001b[0;34m\u001b[0m\u001b[0m\n\u001b[0;32m--> 452\u001b[0;31m             \u001b[0;32massert\u001b[0m \u001b[0mpart\u001b[0m\u001b[0;34m.\u001b[0m\u001b[0mstatus\u001b[0m \u001b[0;34m==\u001b[0m \u001b[0;34m\"finished\"\u001b[0m\u001b[0;34m,\u001b[0m \u001b[0mpart\u001b[0m\u001b[0;34m.\u001b[0m\u001b[0mstatus\u001b[0m\u001b[0;34m\u001b[0m\u001b[0;34m\u001b[0m\u001b[0m\n\u001b[0m\u001b[1;32m    453\u001b[0m \u001b[0;34m\u001b[0m\u001b[0m\n\u001b[1;32m    454\u001b[0m         \u001b[0;31m# Preserving the partition order for prediction.\u001b[0m\u001b[0;34m\u001b[0m\u001b[0;34m\u001b[0m\u001b[0m\n",
            "\u001b[0;31mAssertionError\u001b[0m: error"
          ]
        }
      ]
    },
    {
      "cell_type": "markdown",
      "source": [
        "riskassesment_302T\tEstimated probability that the client will default on their credit obligation within the next year.\tString\t['train_static_cb_0']\n",
        "\n",
        "riskassesment_940T\tEstimate of client's creditworthiness.\tFloat64\t['train_static_cb_0']\n"
      ],
      "metadata": {
        "id": "NhkaZfKwRX6W"
      }
    },
    {
      "cell_type": "code",
      "source": [],
      "metadata": {
        "id": "IB436QzMSeLx"
      },
      "execution_count": null,
      "outputs": []
    }
  ]
}